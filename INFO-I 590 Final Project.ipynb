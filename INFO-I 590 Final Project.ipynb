{
 "cells": [
  {
   "cell_type": "code",
   "execution_count": 75,
   "id": "337041ed",
   "metadata": {},
   "outputs": [],
   "source": [
    "import pandas as pd\n",
    "import altair as alt\n",
    "import pycountry\n",
    "import pytz\n",
    "import datetime as dt\n",
    "import matplotlib.pyplot as plt\n",
    "import numpy as np\n",
    "import requests\n",
    "import json\n",
    "import random\n",
    "import seaborn as sns\n",
    "pd.options.display.max_rows = 4000"
   ]
  },
  {
   "cell_type": "markdown",
   "id": "c8762457",
   "metadata": {},
   "source": [
    "### Importing Profile Info"
   ]
  },
  {
   "cell_type": "code",
   "execution_count": 2,
   "id": "dd777383",
   "metadata": {},
   "outputs": [],
   "source": [
    "profile = pd.read_csv(\"Datasets/kaggle-last.fm/userid-profile.csv\", names=['user_id', 'gender', 'age', 'country', 'registered'])"
   ]
  },
  {
   "cell_type": "code",
   "execution_count": 3,
   "id": "17026cc3",
   "metadata": {},
   "outputs": [],
   "source": [
    "profile = profile.dropna(subset=['country'])\n",
    "profile = profile.reset_index()\n",
    "profile = profile.drop('index', axis=1)\n",
    "profile = profile.iloc[1: , :]"
   ]
  },
  {
   "cell_type": "code",
   "execution_count": 4,
   "id": "bc34ad3d",
   "metadata": {},
   "outputs": [],
   "source": [
    "mapping = {country.name: country.alpha_2 for country in pycountry.countries}\n",
    "country_code = []\n",
    "\n",
    "for name in profile['country']:\n",
    "    country_code.append(mapping.get(name))"
   ]
  },
  {
   "cell_type": "code",
   "execution_count": 5,
   "id": "d880a82c",
   "metadata": {},
   "outputs": [],
   "source": [
    "profile['country_code'] = country_code"
   ]
  },
  {
   "cell_type": "code",
   "execution_count": 6,
   "id": "54353928",
   "metadata": {
    "scrolled": false
   },
   "outputs": [
    {
     "data": {
      "text/html": [
       "<div>\n",
       "<style scoped>\n",
       "    .dataframe tbody tr th:only-of-type {\n",
       "        vertical-align: middle;\n",
       "    }\n",
       "\n",
       "    .dataframe tbody tr th {\n",
       "        vertical-align: top;\n",
       "    }\n",
       "\n",
       "    .dataframe thead th {\n",
       "        text-align: right;\n",
       "    }\n",
       "</style>\n",
       "<table border=\"1\" class=\"dataframe\">\n",
       "  <thead>\n",
       "    <tr style=\"text-align: right;\">\n",
       "      <th></th>\n",
       "      <th>user_id</th>\n",
       "      <th>gender</th>\n",
       "      <th>age</th>\n",
       "      <th>country</th>\n",
       "      <th>registered</th>\n",
       "      <th>country_code</th>\n",
       "    </tr>\n",
       "  </thead>\n",
       "  <tbody>\n",
       "    <tr>\n",
       "      <th>1</th>\n",
       "      <td>user_000001</td>\n",
       "      <td>m</td>\n",
       "      <td>NaN</td>\n",
       "      <td>Japan</td>\n",
       "      <td>Aug 13, 2006</td>\n",
       "      <td>JP</td>\n",
       "    </tr>\n",
       "    <tr>\n",
       "      <th>2</th>\n",
       "      <td>user_000002</td>\n",
       "      <td>f</td>\n",
       "      <td>NaN</td>\n",
       "      <td>Peru</td>\n",
       "      <td>Feb 24, 2006</td>\n",
       "      <td>PE</td>\n",
       "    </tr>\n",
       "    <tr>\n",
       "      <th>3</th>\n",
       "      <td>user_000003</td>\n",
       "      <td>m</td>\n",
       "      <td>22</td>\n",
       "      <td>United States</td>\n",
       "      <td>Oct 30, 2005</td>\n",
       "      <td>US</td>\n",
       "    </tr>\n",
       "    <tr>\n",
       "      <th>4</th>\n",
       "      <td>user_000005</td>\n",
       "      <td>m</td>\n",
       "      <td>NaN</td>\n",
       "      <td>Bulgaria</td>\n",
       "      <td>Jun 29, 2006</td>\n",
       "      <td>BG</td>\n",
       "    </tr>\n",
       "    <tr>\n",
       "      <th>5</th>\n",
       "      <td>user_000006</td>\n",
       "      <td>NaN</td>\n",
       "      <td>24</td>\n",
       "      <td>Russian Federation</td>\n",
       "      <td>May 18, 2006</td>\n",
       "      <td>RU</td>\n",
       "    </tr>\n",
       "    <tr>\n",
       "      <th>6</th>\n",
       "      <td>user_000007</td>\n",
       "      <td>f</td>\n",
       "      <td>NaN</td>\n",
       "      <td>United States</td>\n",
       "      <td>Jan 22, 2006</td>\n",
       "      <td>US</td>\n",
       "    </tr>\n",
       "    <tr>\n",
       "      <th>7</th>\n",
       "      <td>user_000008</td>\n",
       "      <td>m</td>\n",
       "      <td>23</td>\n",
       "      <td>Slovakia</td>\n",
       "      <td>Sep 28, 2006</td>\n",
       "      <td>SK</td>\n",
       "    </tr>\n",
       "    <tr>\n",
       "      <th>8</th>\n",
       "      <td>user_000009</td>\n",
       "      <td>f</td>\n",
       "      <td>19</td>\n",
       "      <td>United States</td>\n",
       "      <td>Jan 13, 2007</td>\n",
       "      <td>US</td>\n",
       "    </tr>\n",
       "    <tr>\n",
       "      <th>9</th>\n",
       "      <td>user_000010</td>\n",
       "      <td>m</td>\n",
       "      <td>19</td>\n",
       "      <td>Poland</td>\n",
       "      <td>May 4, 2006</td>\n",
       "      <td>PL</td>\n",
       "    </tr>\n",
       "    <tr>\n",
       "      <th>10</th>\n",
       "      <td>user_000011</td>\n",
       "      <td>m</td>\n",
       "      <td>21</td>\n",
       "      <td>Finland</td>\n",
       "      <td>Sep 8, 2005</td>\n",
       "      <td>FI</td>\n",
       "    </tr>\n",
       "    <tr>\n",
       "      <th>11</th>\n",
       "      <td>user_000012</td>\n",
       "      <td>f</td>\n",
       "      <td>28</td>\n",
       "      <td>United States</td>\n",
       "      <td>Mar 30, 2005</td>\n",
       "      <td>US</td>\n",
       "    </tr>\n",
       "    <tr>\n",
       "      <th>12</th>\n",
       "      <td>user_000013</td>\n",
       "      <td>f</td>\n",
       "      <td>25</td>\n",
       "      <td>Romania</td>\n",
       "      <td>Sep 25, 2006</td>\n",
       "      <td>RO</td>\n",
       "    </tr>\n",
       "    <tr>\n",
       "      <th>13</th>\n",
       "      <td>user_000015</td>\n",
       "      <td>NaN</td>\n",
       "      <td>21</td>\n",
       "      <td>Cote D'Ivoire</td>\n",
       "      <td>Oct 3, 2006</td>\n",
       "      <td>None</td>\n",
       "    </tr>\n",
       "    <tr>\n",
       "      <th>14</th>\n",
       "      <td>user_000016</td>\n",
       "      <td>m</td>\n",
       "      <td>NaN</td>\n",
       "      <td>United Kingdom</td>\n",
       "      <td>Aug 5, 2005</td>\n",
       "      <td>GB</td>\n",
       "    </tr>\n",
       "    <tr>\n",
       "      <th>15</th>\n",
       "      <td>user_000017</td>\n",
       "      <td>m</td>\n",
       "      <td>22</td>\n",
       "      <td>Morocco</td>\n",
       "      <td>Aug 27, 2007</td>\n",
       "      <td>MA</td>\n",
       "    </tr>\n",
       "    <tr>\n",
       "      <th>16</th>\n",
       "      <td>user_000018</td>\n",
       "      <td>NaN</td>\n",
       "      <td>22</td>\n",
       "      <td>United Kingdom</td>\n",
       "      <td>Aug 26, 2005</td>\n",
       "      <td>GB</td>\n",
       "    </tr>\n",
       "    <tr>\n",
       "      <th>17</th>\n",
       "      <td>user_000019</td>\n",
       "      <td>f</td>\n",
       "      <td>29</td>\n",
       "      <td>Mexico</td>\n",
       "      <td>Nov 10, 2005</td>\n",
       "      <td>MX</td>\n",
       "    </tr>\n",
       "    <tr>\n",
       "      <th>18</th>\n",
       "      <td>user_000020</td>\n",
       "      <td>f</td>\n",
       "      <td>27</td>\n",
       "      <td>Germany</td>\n",
       "      <td>Jul 24, 2006</td>\n",
       "      <td>DE</td>\n",
       "    </tr>\n",
       "    <tr>\n",
       "      <th>19</th>\n",
       "      <td>user_000021</td>\n",
       "      <td>m</td>\n",
       "      <td>27</td>\n",
       "      <td>Canada</td>\n",
       "      <td>Mar 16, 2005</td>\n",
       "      <td>CA</td>\n",
       "    </tr>\n",
       "    <tr>\n",
       "      <th>20</th>\n",
       "      <td>user_000022</td>\n",
       "      <td>m</td>\n",
       "      <td>38</td>\n",
       "      <td>United Kingdom</td>\n",
       "      <td>May 14, 2006</td>\n",
       "      <td>GB</td>\n",
       "    </tr>\n",
       "  </tbody>\n",
       "</table>\n",
       "</div>"
      ],
      "text/plain": [
       "        user_id gender  age             country    registered country_code\n",
       "1   user_000001      m  NaN               Japan  Aug 13, 2006           JP\n",
       "2   user_000002      f  NaN                Peru  Feb 24, 2006           PE\n",
       "3   user_000003      m   22       United States  Oct 30, 2005           US\n",
       "4   user_000005      m  NaN            Bulgaria  Jun 29, 2006           BG\n",
       "5   user_000006    NaN   24  Russian Federation  May 18, 2006           RU\n",
       "6   user_000007      f  NaN       United States  Jan 22, 2006           US\n",
       "7   user_000008      m   23            Slovakia  Sep 28, 2006           SK\n",
       "8   user_000009      f   19       United States  Jan 13, 2007           US\n",
       "9   user_000010      m   19              Poland   May 4, 2006           PL\n",
       "10  user_000011      m   21             Finland   Sep 8, 2005           FI\n",
       "11  user_000012      f   28       United States  Mar 30, 2005           US\n",
       "12  user_000013      f   25             Romania  Sep 25, 2006           RO\n",
       "13  user_000015    NaN   21       Cote D'Ivoire   Oct 3, 2006         None\n",
       "14  user_000016      m  NaN      United Kingdom   Aug 5, 2005           GB\n",
       "15  user_000017      m   22             Morocco  Aug 27, 2007           MA\n",
       "16  user_000018    NaN   22      United Kingdom  Aug 26, 2005           GB\n",
       "17  user_000019      f   29              Mexico  Nov 10, 2005           MX\n",
       "18  user_000020      f   27             Germany  Jul 24, 2006           DE\n",
       "19  user_000021      m   27              Canada  Mar 16, 2005           CA\n",
       "20  user_000022      m   38      United Kingdom  May 14, 2006           GB"
      ]
     },
     "execution_count": 6,
     "metadata": {},
     "output_type": "execute_result"
    }
   ],
   "source": [
    "profile.head(20)"
   ]
  },
  {
   "cell_type": "code",
   "execution_count": 7,
   "id": "48d28c69",
   "metadata": {},
   "outputs": [
    {
     "data": {
      "text/plain": [
       "(907, 6)"
      ]
     },
     "execution_count": 7,
     "metadata": {},
     "output_type": "execute_result"
    }
   ],
   "source": [
    "profile.shape"
   ]
  },
  {
   "cell_type": "markdown",
   "id": "c6622b30",
   "metadata": {},
   "source": [
    "### Importing Profile SHA Info"
   ]
  },
  {
   "cell_type": "code",
   "execution_count": 8,
   "id": "6e3e056e",
   "metadata": {},
   "outputs": [],
   "source": [
    "profile_sha = pd.read_csv(\"Datasets/kaggle-last.fm/usersha1-profile.csv\", names=['user_sha', 'gender', 'age', 'country', 'registered'])"
   ]
  },
  {
   "cell_type": "code",
   "execution_count": 9,
   "id": "6cc8fe71",
   "metadata": {},
   "outputs": [],
   "source": [
    "mapping = {country.name: country.alpha_2 for country in pycountry.countries}\n",
    "country_code = []\n",
    "\n",
    "for name in profile_sha['country']:\n",
    "    country_code.append(mapping.get(name))"
   ]
  },
  {
   "cell_type": "code",
   "execution_count": 10,
   "id": "89ce866a",
   "metadata": {},
   "outputs": [],
   "source": [
    "profile_sha['country_code'] = country_code"
   ]
  },
  {
   "cell_type": "code",
   "execution_count": 11,
   "id": "b3ea94d4",
   "metadata": {},
   "outputs": [
    {
     "data": {
      "text/html": [
       "<div>\n",
       "<style scoped>\n",
       "    .dataframe tbody tr th:only-of-type {\n",
       "        vertical-align: middle;\n",
       "    }\n",
       "\n",
       "    .dataframe tbody tr th {\n",
       "        vertical-align: top;\n",
       "    }\n",
       "\n",
       "    .dataframe thead th {\n",
       "        text-align: right;\n",
       "    }\n",
       "</style>\n",
       "<table border=\"1\" class=\"dataframe\">\n",
       "  <thead>\n",
       "    <tr style=\"text-align: right;\">\n",
       "      <th></th>\n",
       "      <th>user_sha</th>\n",
       "      <th>gender</th>\n",
       "      <th>age</th>\n",
       "      <th>country</th>\n",
       "      <th>registered</th>\n",
       "      <th>country_code</th>\n",
       "    </tr>\n",
       "  </thead>\n",
       "  <tbody>\n",
       "    <tr>\n",
       "      <th>0</th>\n",
       "      <td>00000c289a1829a808ac09c00daf10bc3c4e223b</td>\n",
       "      <td>f</td>\n",
       "      <td>22.0</td>\n",
       "      <td>Germany</td>\n",
       "      <td>Feb 1, 2007</td>\n",
       "      <td>DE</td>\n",
       "    </tr>\n",
       "    <tr>\n",
       "      <th>1</th>\n",
       "      <td>00001411dc427966b17297bf4d69e7e193135d89</td>\n",
       "      <td>f</td>\n",
       "      <td>NaN</td>\n",
       "      <td>Canada</td>\n",
       "      <td>Dec 4, 2007</td>\n",
       "      <td>CA</td>\n",
       "    </tr>\n",
       "    <tr>\n",
       "      <th>2</th>\n",
       "      <td>00004d2ac9316e22dc007ab2243d6fcb239e707d</td>\n",
       "      <td>NaN</td>\n",
       "      <td>NaN</td>\n",
       "      <td>Germany</td>\n",
       "      <td>Sep 1, 2006</td>\n",
       "      <td>DE</td>\n",
       "    </tr>\n",
       "    <tr>\n",
       "      <th>3</th>\n",
       "      <td>000063d3fe1cf2ba248b9e3c3f0334845a27a6bf</td>\n",
       "      <td>m</td>\n",
       "      <td>19.0</td>\n",
       "      <td>Mexico</td>\n",
       "      <td>Apr 28, 2008</td>\n",
       "      <td>MX</td>\n",
       "    </tr>\n",
       "    <tr>\n",
       "      <th>4</th>\n",
       "      <td>00007a47085b9aab8af55f52ec8846ac479ac4fe</td>\n",
       "      <td>m</td>\n",
       "      <td>28.0</td>\n",
       "      <td>United States</td>\n",
       "      <td>Jan 27, 2006</td>\n",
       "      <td>US</td>\n",
       "    </tr>\n",
       "    <tr>\n",
       "      <th>5</th>\n",
       "      <td>0000c176103e538d5c9828e695fed4f7ae42dd01</td>\n",
       "      <td>m</td>\n",
       "      <td>20.0</td>\n",
       "      <td>United Kingdom</td>\n",
       "      <td>Jan 14, 2006</td>\n",
       "      <td>GB</td>\n",
       "    </tr>\n",
       "    <tr>\n",
       "      <th>6</th>\n",
       "      <td>0000ee7dd906373efa37f4e1185bfe1e3f8695ae</td>\n",
       "      <td>m</td>\n",
       "      <td>17.0</td>\n",
       "      <td>Finland</td>\n",
       "      <td>Nov 17, 2007</td>\n",
       "      <td>FI</td>\n",
       "    </tr>\n",
       "    <tr>\n",
       "      <th>7</th>\n",
       "      <td>0000ef373bbd0d89ce796abae961f2705e8c1faf</td>\n",
       "      <td>f</td>\n",
       "      <td>22.0</td>\n",
       "      <td>Poland</td>\n",
       "      <td>May 23, 2007</td>\n",
       "      <td>PL</td>\n",
       "    </tr>\n",
       "    <tr>\n",
       "      <th>8</th>\n",
       "      <td>0000f687d4fe9c1ed49620fbc5ed5b0d7798ea20</td>\n",
       "      <td>f</td>\n",
       "      <td>24.0</td>\n",
       "      <td>Spain</td>\n",
       "      <td>Nov 4, 2008</td>\n",
       "      <td>ES</td>\n",
       "    </tr>\n",
       "    <tr>\n",
       "      <th>9</th>\n",
       "      <td>0001399387da41d557219578fb08b12afa25ab67</td>\n",
       "      <td>m</td>\n",
       "      <td>NaN</td>\n",
       "      <td>Ukraine</td>\n",
       "      <td>Aug 17, 2008</td>\n",
       "      <td>UA</td>\n",
       "    </tr>\n",
       "    <tr>\n",
       "      <th>10</th>\n",
       "      <td>000163263d2a41a3966a3746855b8b75b7d7aa83</td>\n",
       "      <td>m</td>\n",
       "      <td>27.0</td>\n",
       "      <td>Sweden</td>\n",
       "      <td>Jan 5, 2007</td>\n",
       "      <td>SE</td>\n",
       "    </tr>\n",
       "    <tr>\n",
       "      <th>11</th>\n",
       "      <td>0001a57568309b287363e72dc682e9a170ba6dc2</td>\n",
       "      <td>NaN</td>\n",
       "      <td>23.0</td>\n",
       "      <td>United States</td>\n",
       "      <td>May 12, 2007</td>\n",
       "      <td>US</td>\n",
       "    </tr>\n",
       "    <tr>\n",
       "      <th>12</th>\n",
       "      <td>0001a88a7092846abb1b70dbcced05f914976371</td>\n",
       "      <td>NaN</td>\n",
       "      <td>NaN</td>\n",
       "      <td>Japan</td>\n",
       "      <td>Oct 13, 2008</td>\n",
       "      <td>JP</td>\n",
       "    </tr>\n",
       "    <tr>\n",
       "      <th>13</th>\n",
       "      <td>0001bd96207f323b53652bf400702719ad456d3c</td>\n",
       "      <td>f</td>\n",
       "      <td>18.0</td>\n",
       "      <td>Finland</td>\n",
       "      <td>Mar 10, 2008</td>\n",
       "      <td>FI</td>\n",
       "    </tr>\n",
       "    <tr>\n",
       "      <th>14</th>\n",
       "      <td>000215d3060a5b0ab7b3c415d49ec579100d4c87</td>\n",
       "      <td>f</td>\n",
       "      <td>NaN</td>\n",
       "      <td>Australia</td>\n",
       "      <td>Jul 26, 2008</td>\n",
       "      <td>AU</td>\n",
       "    </tr>\n",
       "    <tr>\n",
       "      <th>15</th>\n",
       "      <td>00024b5b85c40f990c28644d53257819980bf6bb</td>\n",
       "      <td>m</td>\n",
       "      <td>23.0</td>\n",
       "      <td>United States</td>\n",
       "      <td>Aug 19, 2005</td>\n",
       "      <td>US</td>\n",
       "    </tr>\n",
       "    <tr>\n",
       "      <th>16</th>\n",
       "      <td>00026e8fc41980c9605eac741cd97b8216d2dbbd</td>\n",
       "      <td>m</td>\n",
       "      <td>30.0</td>\n",
       "      <td>Portugal</td>\n",
       "      <td>Apr 22, 2007</td>\n",
       "      <td>PT</td>\n",
       "    </tr>\n",
       "    <tr>\n",
       "      <th>17</th>\n",
       "      <td>000294c1f0d9b40067487457ca31f0caab81d44a</td>\n",
       "      <td>m</td>\n",
       "      <td>17.0</td>\n",
       "      <td>Finland</td>\n",
       "      <td>Aug 25, 2008</td>\n",
       "      <td>FI</td>\n",
       "    </tr>\n",
       "    <tr>\n",
       "      <th>18</th>\n",
       "      <td>00029d80b8af94f2d5e3349ceb28b7304f80c1c4</td>\n",
       "      <td>NaN</td>\n",
       "      <td>27.0</td>\n",
       "      <td>Australia</td>\n",
       "      <td>Mar 27, 2005</td>\n",
       "      <td>AU</td>\n",
       "    </tr>\n",
       "    <tr>\n",
       "      <th>19</th>\n",
       "      <td>0002dd2154072434d26e5409faa591bfb260a01e</td>\n",
       "      <td>m</td>\n",
       "      <td>30.0</td>\n",
       "      <td>United States</td>\n",
       "      <td>Aug 23, 2006</td>\n",
       "      <td>US</td>\n",
       "    </tr>\n",
       "  </tbody>\n",
       "</table>\n",
       "</div>"
      ],
      "text/plain": [
       "                                    user_sha gender   age         country  \\\n",
       "0   00000c289a1829a808ac09c00daf10bc3c4e223b      f  22.0         Germany   \n",
       "1   00001411dc427966b17297bf4d69e7e193135d89      f   NaN          Canada   \n",
       "2   00004d2ac9316e22dc007ab2243d6fcb239e707d    NaN   NaN         Germany   \n",
       "3   000063d3fe1cf2ba248b9e3c3f0334845a27a6bf      m  19.0          Mexico   \n",
       "4   00007a47085b9aab8af55f52ec8846ac479ac4fe      m  28.0   United States   \n",
       "5   0000c176103e538d5c9828e695fed4f7ae42dd01      m  20.0  United Kingdom   \n",
       "6   0000ee7dd906373efa37f4e1185bfe1e3f8695ae      m  17.0         Finland   \n",
       "7   0000ef373bbd0d89ce796abae961f2705e8c1faf      f  22.0          Poland   \n",
       "8   0000f687d4fe9c1ed49620fbc5ed5b0d7798ea20      f  24.0           Spain   \n",
       "9   0001399387da41d557219578fb08b12afa25ab67      m   NaN         Ukraine   \n",
       "10  000163263d2a41a3966a3746855b8b75b7d7aa83      m  27.0          Sweden   \n",
       "11  0001a57568309b287363e72dc682e9a170ba6dc2    NaN  23.0   United States   \n",
       "12  0001a88a7092846abb1b70dbcced05f914976371    NaN   NaN           Japan   \n",
       "13  0001bd96207f323b53652bf400702719ad456d3c      f  18.0         Finland   \n",
       "14  000215d3060a5b0ab7b3c415d49ec579100d4c87      f   NaN       Australia   \n",
       "15  00024b5b85c40f990c28644d53257819980bf6bb      m  23.0   United States   \n",
       "16  00026e8fc41980c9605eac741cd97b8216d2dbbd      m  30.0        Portugal   \n",
       "17  000294c1f0d9b40067487457ca31f0caab81d44a      m  17.0         Finland   \n",
       "18  00029d80b8af94f2d5e3349ceb28b7304f80c1c4    NaN  27.0       Australia   \n",
       "19  0002dd2154072434d26e5409faa591bfb260a01e      m  30.0   United States   \n",
       "\n",
       "      registered country_code  \n",
       "0    Feb 1, 2007           DE  \n",
       "1    Dec 4, 2007           CA  \n",
       "2    Sep 1, 2006           DE  \n",
       "3   Apr 28, 2008           MX  \n",
       "4   Jan 27, 2006           US  \n",
       "5   Jan 14, 2006           GB  \n",
       "6   Nov 17, 2007           FI  \n",
       "7   May 23, 2007           PL  \n",
       "8    Nov 4, 2008           ES  \n",
       "9   Aug 17, 2008           UA  \n",
       "10   Jan 5, 2007           SE  \n",
       "11  May 12, 2007           US  \n",
       "12  Oct 13, 2008           JP  \n",
       "13  Mar 10, 2008           FI  \n",
       "14  Jul 26, 2008           AU  \n",
       "15  Aug 19, 2005           US  \n",
       "16  Apr 22, 2007           PT  \n",
       "17  Aug 25, 2008           FI  \n",
       "18  Mar 27, 2005           AU  \n",
       "19  Aug 23, 2006           US  "
      ]
     },
     "execution_count": 11,
     "metadata": {},
     "output_type": "execute_result"
    }
   ],
   "source": [
    "profile_sha.head(20)"
   ]
  },
  {
   "cell_type": "markdown",
   "id": "4f9b7800",
   "metadata": {},
   "source": [
    "### Importing Listening Activity"
   ]
  },
  {
   "cell_type": "code",
   "execution_count": 12,
   "id": "d5c30336",
   "metadata": {
    "scrolled": true
   },
   "outputs": [
    {
     "name": "stderr",
     "output_type": "stream",
     "text": [
      "/Users/ritwiksrivastava/opt/anaconda3/envs/dviz/lib/python3.8/site-packages/IPython/core/interactiveshell.py:3441: FutureWarning: The error_bad_lines argument has been deprecated and will be removed in a future version.\n",
      "\n",
      "\n",
      "  exec(code_obj, self.user_global_ns, self.user_ns)\n"
     ]
    }
   ],
   "source": [
    "activity = pd.read_csv(\"Datasets/kaggle-last.fm/userid-timestamp-artid-artname-traid-traname.tsv\", sep=\"\\t\", error_bad_lines=False, names=['user_id', 'timestamp', 'artist_id', 'artist_name', 'track_id', 'track_name'])"
   ]
  },
  {
   "cell_type": "code",
   "execution_count": 14,
   "id": "fa19b2e5",
   "metadata": {},
   "outputs": [
    {
     "data": {
      "text/plain": [
       "(19098862, 6)"
      ]
     },
     "execution_count": 14,
     "metadata": {},
     "output_type": "execute_result"
    }
   ],
   "source": [
    "activity.shape"
   ]
  },
  {
   "cell_type": "markdown",
   "id": "59caa578",
   "metadata": {},
   "source": [
    "### Importing Artist Plays"
   ]
  },
  {
   "cell_type": "code",
   "execution_count": 15,
   "id": "525c8076",
   "metadata": {
    "scrolled": true
   },
   "outputs": [
    {
     "name": "stderr",
     "output_type": "stream",
     "text": [
      "/Users/ritwiksrivastava/opt/anaconda3/envs/dviz/lib/python3.8/site-packages/IPython/core/interactiveshell.py:3441: FutureWarning: The error_bad_lines argument has been deprecated and will be removed in a future version.\n",
      "\n",
      "\n",
      "  exec(code_obj, self.user_global_ns, self.user_ns)\n"
     ]
    }
   ],
   "source": [
    "artist_plays = pd.read_csv(\"Datasets/kaggle-last.fm/usersha1-artmbid-artname-plays.tsv\", sep=\"\\t\", error_bad_lines=False, header=None, names=['user_sha', 'artist_id', 'artist_name', 'plays'])"
   ]
  },
  {
   "cell_type": "code",
   "execution_count": 17,
   "id": "03e7eafb",
   "metadata": {},
   "outputs": [
    {
     "data": {
      "text/plain": [
       "(17535655, 4)"
      ]
     },
     "execution_count": 17,
     "metadata": {},
     "output_type": "execute_result"
    }
   ],
   "source": [
    "artist_plays.shape"
   ]
  },
  {
   "cell_type": "code",
   "execution_count": 18,
   "id": "32fa9104",
   "metadata": {},
   "outputs": [],
   "source": [
    "artist_profile_joined = artist_plays.set_index('user_sha').join(profile_sha.set_index('user_sha')).drop(['age', 'gender', 'registered', 'artist_id'], axis=1)"
   ]
  },
  {
   "cell_type": "code",
   "execution_count": 19,
   "id": "318c8153",
   "metadata": {},
   "outputs": [],
   "source": [
    "artist_profile_joined.reset_index(level=0, inplace=True)"
   ]
  },
  {
   "cell_type": "code",
   "execution_count": 20,
   "id": "29e0b96c",
   "metadata": {
    "scrolled": false
   },
   "outputs": [
    {
     "data": {
      "text/html": [
       "<div>\n",
       "<style scoped>\n",
       "    .dataframe tbody tr th:only-of-type {\n",
       "        vertical-align: middle;\n",
       "    }\n",
       "\n",
       "    .dataframe tbody tr th {\n",
       "        vertical-align: top;\n",
       "    }\n",
       "\n",
       "    .dataframe thead th {\n",
       "        text-align: right;\n",
       "    }\n",
       "</style>\n",
       "<table border=\"1\" class=\"dataframe\">\n",
       "  <thead>\n",
       "    <tr style=\"text-align: right;\">\n",
       "      <th></th>\n",
       "      <th>user_sha</th>\n",
       "      <th>artist_name</th>\n",
       "      <th>plays</th>\n",
       "      <th>country</th>\n",
       "      <th>country_code</th>\n",
       "    </tr>\n",
       "  </thead>\n",
       "  <tbody>\n",
       "    <tr>\n",
       "      <th>0</th>\n",
       "      <td>00000c289a1829a808ac09c00daf10bc3c4e223b</td>\n",
       "      <td>betty blowtorch</td>\n",
       "      <td>2137</td>\n",
       "      <td>Germany</td>\n",
       "      <td>DE</td>\n",
       "    </tr>\n",
       "    <tr>\n",
       "      <th>1</th>\n",
       "      <td>00000c289a1829a808ac09c00daf10bc3c4e223b</td>\n",
       "      <td>die Ärzte</td>\n",
       "      <td>1099</td>\n",
       "      <td>Germany</td>\n",
       "      <td>DE</td>\n",
       "    </tr>\n",
       "    <tr>\n",
       "      <th>2</th>\n",
       "      <td>00000c289a1829a808ac09c00daf10bc3c4e223b</td>\n",
       "      <td>melissa etheridge</td>\n",
       "      <td>897</td>\n",
       "      <td>Germany</td>\n",
       "      <td>DE</td>\n",
       "    </tr>\n",
       "    <tr>\n",
       "      <th>3</th>\n",
       "      <td>00000c289a1829a808ac09c00daf10bc3c4e223b</td>\n",
       "      <td>elvenking</td>\n",
       "      <td>717</td>\n",
       "      <td>Germany</td>\n",
       "      <td>DE</td>\n",
       "    </tr>\n",
       "    <tr>\n",
       "      <th>4</th>\n",
       "      <td>00000c289a1829a808ac09c00daf10bc3c4e223b</td>\n",
       "      <td>juliette &amp; the licks</td>\n",
       "      <td>706</td>\n",
       "      <td>Germany</td>\n",
       "      <td>DE</td>\n",
       "    </tr>\n",
       "    <tr>\n",
       "      <th>5</th>\n",
       "      <td>00000c289a1829a808ac09c00daf10bc3c4e223b</td>\n",
       "      <td>red hot chili peppers</td>\n",
       "      <td>691</td>\n",
       "      <td>Germany</td>\n",
       "      <td>DE</td>\n",
       "    </tr>\n",
       "    <tr>\n",
       "      <th>6</th>\n",
       "      <td>00000c289a1829a808ac09c00daf10bc3c4e223b</td>\n",
       "      <td>magica</td>\n",
       "      <td>545</td>\n",
       "      <td>Germany</td>\n",
       "      <td>DE</td>\n",
       "    </tr>\n",
       "    <tr>\n",
       "      <th>7</th>\n",
       "      <td>00000c289a1829a808ac09c00daf10bc3c4e223b</td>\n",
       "      <td>the black dahlia murder</td>\n",
       "      <td>507</td>\n",
       "      <td>Germany</td>\n",
       "      <td>DE</td>\n",
       "    </tr>\n",
       "    <tr>\n",
       "      <th>8</th>\n",
       "      <td>00000c289a1829a808ac09c00daf10bc3c4e223b</td>\n",
       "      <td>the murmurs</td>\n",
       "      <td>424</td>\n",
       "      <td>Germany</td>\n",
       "      <td>DE</td>\n",
       "    </tr>\n",
       "    <tr>\n",
       "      <th>9</th>\n",
       "      <td>00000c289a1829a808ac09c00daf10bc3c4e223b</td>\n",
       "      <td>lunachicks</td>\n",
       "      <td>403</td>\n",
       "      <td>Germany</td>\n",
       "      <td>DE</td>\n",
       "    </tr>\n",
       "    <tr>\n",
       "      <th>10</th>\n",
       "      <td>00000c289a1829a808ac09c00daf10bc3c4e223b</td>\n",
       "      <td>walls of jericho</td>\n",
       "      <td>393</td>\n",
       "      <td>Germany</td>\n",
       "      <td>DE</td>\n",
       "    </tr>\n",
       "    <tr>\n",
       "      <th>11</th>\n",
       "      <td>00000c289a1829a808ac09c00daf10bc3c4e223b</td>\n",
       "      <td>letzte instanz</td>\n",
       "      <td>387</td>\n",
       "      <td>Germany</td>\n",
       "      <td>DE</td>\n",
       "    </tr>\n",
       "    <tr>\n",
       "      <th>12</th>\n",
       "      <td>00000c289a1829a808ac09c00daf10bc3c4e223b</td>\n",
       "      <td>goldfrapp</td>\n",
       "      <td>361</td>\n",
       "      <td>Germany</td>\n",
       "      <td>DE</td>\n",
       "    </tr>\n",
       "    <tr>\n",
       "      <th>13</th>\n",
       "      <td>00000c289a1829a808ac09c00daf10bc3c4e223b</td>\n",
       "      <td>horrorpops</td>\n",
       "      <td>358</td>\n",
       "      <td>Germany</td>\n",
       "      <td>DE</td>\n",
       "    </tr>\n",
       "    <tr>\n",
       "      <th>14</th>\n",
       "      <td>00000c289a1829a808ac09c00daf10bc3c4e223b</td>\n",
       "      <td>the butchies</td>\n",
       "      <td>329</td>\n",
       "      <td>Germany</td>\n",
       "      <td>DE</td>\n",
       "    </tr>\n",
       "    <tr>\n",
       "      <th>15</th>\n",
       "      <td>00000c289a1829a808ac09c00daf10bc3c4e223b</td>\n",
       "      <td>jack off jill</td>\n",
       "      <td>316</td>\n",
       "      <td>Germany</td>\n",
       "      <td>DE</td>\n",
       "    </tr>\n",
       "    <tr>\n",
       "      <th>16</th>\n",
       "      <td>00000c289a1829a808ac09c00daf10bc3c4e223b</td>\n",
       "      <td>babes in toyland</td>\n",
       "      <td>310</td>\n",
       "      <td>Germany</td>\n",
       "      <td>DE</td>\n",
       "    </tr>\n",
       "    <tr>\n",
       "      <th>17</th>\n",
       "      <td>00000c289a1829a808ac09c00daf10bc3c4e223b</td>\n",
       "      <td>dropkick murphys</td>\n",
       "      <td>302</td>\n",
       "      <td>Germany</td>\n",
       "      <td>DE</td>\n",
       "    </tr>\n",
       "    <tr>\n",
       "      <th>18</th>\n",
       "      <td>00000c289a1829a808ac09c00daf10bc3c4e223b</td>\n",
       "      <td>all:my:faults</td>\n",
       "      <td>288</td>\n",
       "      <td>Germany</td>\n",
       "      <td>DE</td>\n",
       "    </tr>\n",
       "    <tr>\n",
       "      <th>19</th>\n",
       "      <td>00000c289a1829a808ac09c00daf10bc3c4e223b</td>\n",
       "      <td>le tigre</td>\n",
       "      <td>281</td>\n",
       "      <td>Germany</td>\n",
       "      <td>DE</td>\n",
       "    </tr>\n",
       "  </tbody>\n",
       "</table>\n",
       "</div>"
      ],
      "text/plain": [
       "                                    user_sha              artist_name  plays  \\\n",
       "0   00000c289a1829a808ac09c00daf10bc3c4e223b          betty blowtorch   2137   \n",
       "1   00000c289a1829a808ac09c00daf10bc3c4e223b                die Ärzte   1099   \n",
       "2   00000c289a1829a808ac09c00daf10bc3c4e223b        melissa etheridge    897   \n",
       "3   00000c289a1829a808ac09c00daf10bc3c4e223b                elvenking    717   \n",
       "4   00000c289a1829a808ac09c00daf10bc3c4e223b     juliette & the licks    706   \n",
       "5   00000c289a1829a808ac09c00daf10bc3c4e223b    red hot chili peppers    691   \n",
       "6   00000c289a1829a808ac09c00daf10bc3c4e223b                   magica    545   \n",
       "7   00000c289a1829a808ac09c00daf10bc3c4e223b  the black dahlia murder    507   \n",
       "8   00000c289a1829a808ac09c00daf10bc3c4e223b              the murmurs    424   \n",
       "9   00000c289a1829a808ac09c00daf10bc3c4e223b               lunachicks    403   \n",
       "10  00000c289a1829a808ac09c00daf10bc3c4e223b         walls of jericho    393   \n",
       "11  00000c289a1829a808ac09c00daf10bc3c4e223b           letzte instanz    387   \n",
       "12  00000c289a1829a808ac09c00daf10bc3c4e223b                goldfrapp    361   \n",
       "13  00000c289a1829a808ac09c00daf10bc3c4e223b               horrorpops    358   \n",
       "14  00000c289a1829a808ac09c00daf10bc3c4e223b             the butchies    329   \n",
       "15  00000c289a1829a808ac09c00daf10bc3c4e223b            jack off jill    316   \n",
       "16  00000c289a1829a808ac09c00daf10bc3c4e223b         babes in toyland    310   \n",
       "17  00000c289a1829a808ac09c00daf10bc3c4e223b         dropkick murphys    302   \n",
       "18  00000c289a1829a808ac09c00daf10bc3c4e223b            all:my:faults    288   \n",
       "19  00000c289a1829a808ac09c00daf10bc3c4e223b                 le tigre    281   \n",
       "\n",
       "    country country_code  \n",
       "0   Germany           DE  \n",
       "1   Germany           DE  \n",
       "2   Germany           DE  \n",
       "3   Germany           DE  \n",
       "4   Germany           DE  \n",
       "5   Germany           DE  \n",
       "6   Germany           DE  \n",
       "7   Germany           DE  \n",
       "8   Germany           DE  \n",
       "9   Germany           DE  \n",
       "10  Germany           DE  \n",
       "11  Germany           DE  \n",
       "12  Germany           DE  \n",
       "13  Germany           DE  \n",
       "14  Germany           DE  \n",
       "15  Germany           DE  \n",
       "16  Germany           DE  \n",
       "17  Germany           DE  \n",
       "18  Germany           DE  \n",
       "19  Germany           DE  "
      ]
     },
     "execution_count": 20,
     "metadata": {},
     "output_type": "execute_result"
    }
   ],
   "source": [
    "artist_profile_joined.head(20)"
   ]
  },
  {
   "cell_type": "code",
   "execution_count": 21,
   "id": "0c9ccd71",
   "metadata": {},
   "outputs": [],
   "source": [
    "artist_profile_joined = artist_profile_joined.dropna()"
   ]
  },
  {
   "cell_type": "markdown",
   "id": "5ee461e2",
   "metadata": {},
   "source": [
    "### Plotting the Number of Artist Streams per Country"
   ]
  },
  {
   "cell_type": "code",
   "execution_count": 22,
   "id": "736aca7b",
   "metadata": {},
   "outputs": [],
   "source": [
    "artist_plays_per_country = artist_profile_joined.drop('user_sha', axis=1)\n",
    "artist_plays_per_country['total'] = artist_plays_per_country.groupby(['artist_name', 'country'])['plays'].transform('sum')\n",
    "artist_plays_per_country = artist_plays_per_country.drop_duplicates(subset=['artist_name', 'country'])"
   ]
  },
  {
   "cell_type": "code",
   "execution_count": 23,
   "id": "e77bd345",
   "metadata": {},
   "outputs": [],
   "source": [
    "artist_plays_per_country = artist_plays_per_country.reset_index()"
   ]
  },
  {
   "cell_type": "code",
   "execution_count": 24,
   "id": "cc333ade",
   "metadata": {},
   "outputs": [],
   "source": [
    "artist_plays_per_country = artist_plays_per_country.drop('index', axis=1)"
   ]
  },
  {
   "cell_type": "code",
   "execution_count": 26,
   "id": "2004a36e",
   "metadata": {},
   "outputs": [],
   "source": [
    "import plotly.express as px"
   ]
  },
  {
   "cell_type": "code",
   "execution_count": 229,
   "id": "bb6a36e1",
   "metadata": {},
   "outputs": [],
   "source": [
    "temp = artist_plays_per_country[artist_plays_per_country['artist_name'].isin(['betty blowtorch'])]"
   ]
  },
  {
   "cell_type": "code",
   "execution_count": 231,
   "id": "9ac5fd8a",
   "metadata": {
    "scrolled": false
   },
   "outputs": [
    {
     "data": {
      "application/vnd.plotly.v1+json": {
       "config": {
        "plotlyServerURL": "https://plot.ly"
       },
       "data": [
        {
         "coloraxis": "coloraxis",
         "geo": "geo",
         "hovertemplate": "<b>%{hovertext}</b><br><br>country=%{location}<br>total=%{z}<extra></extra>",
         "hovertext": [
          "Germany",
          "United States",
          "Finland",
          "Australia",
          "Sweden",
          "Canada",
          "Russian Federation",
          "Ukraine",
          "Mexico",
          "Spain",
          "United Kingdom",
          "Italy",
          "Portugal",
          "France",
          "Austria",
          "Netherlands",
          "Poland",
          "Bulgaria",
          "Brazil",
          "Slovakia",
          "Lithuania",
          "Serbia",
          "Israel",
          "Turkey",
          "Estonia"
         ],
         "locationmode": "country names",
         "locations": [
          "Germany",
          "United States",
          "Finland",
          "Australia",
          "Sweden",
          "Canada",
          "Russian Federation",
          "Ukraine",
          "Mexico",
          "Spain",
          "United Kingdom",
          "Italy",
          "Portugal",
          "France",
          "Austria",
          "Netherlands",
          "Poland",
          "Bulgaria",
          "Brazil",
          "Slovakia",
          "Lithuania",
          "Serbia",
          "Israel",
          "Turkey",
          "Estonia"
         ],
         "name": "",
         "type": "choropleth",
         "z": [
          2351,
          4972,
          1274,
          324,
          10287,
          119,
          870,
          188,
          62,
          228,
          417,
          354,
          390,
          147,
          231,
          67,
          740,
          95,
          758,
          54,
          181,
          322,
          34,
          45,
          375
         ]
        }
       ],
       "layout": {
        "coloraxis": {
         "colorbar": {
          "title": {
           "text": "total"
          }
         },
         "colorscale": [
          [
           0,
           "#0d0887"
          ],
          [
           0.1111111111111111,
           "#46039f"
          ],
          [
           0.2222222222222222,
           "#7201a8"
          ],
          [
           0.3333333333333333,
           "#9c179e"
          ],
          [
           0.4444444444444444,
           "#bd3786"
          ],
          [
           0.5555555555555556,
           "#d8576b"
          ],
          [
           0.6666666666666666,
           "#ed7953"
          ],
          [
           0.7777777777777778,
           "#fb9f3a"
          ],
          [
           0.8888888888888888,
           "#fdca26"
          ],
          [
           1,
           "#f0f921"
          ]
         ]
        },
        "geo": {
         "center": {},
         "domain": {
          "x": [
           0,
           1
          ],
          "y": [
           0,
           1
          ]
         }
        },
        "legend": {
         "tracegroupgap": 0
        },
        "margin": {
         "t": 60
        },
        "template": {
         "data": {
          "bar": [
           {
            "error_x": {
             "color": "#2a3f5f"
            },
            "error_y": {
             "color": "#2a3f5f"
            },
            "marker": {
             "line": {
              "color": "#E5ECF6",
              "width": 0.5
             },
             "pattern": {
              "fillmode": "overlay",
              "size": 10,
              "solidity": 0.2
             }
            },
            "type": "bar"
           }
          ],
          "barpolar": [
           {
            "marker": {
             "line": {
              "color": "#E5ECF6",
              "width": 0.5
             },
             "pattern": {
              "fillmode": "overlay",
              "size": 10,
              "solidity": 0.2
             }
            },
            "type": "barpolar"
           }
          ],
          "carpet": [
           {
            "aaxis": {
             "endlinecolor": "#2a3f5f",
             "gridcolor": "white",
             "linecolor": "white",
             "minorgridcolor": "white",
             "startlinecolor": "#2a3f5f"
            },
            "baxis": {
             "endlinecolor": "#2a3f5f",
             "gridcolor": "white",
             "linecolor": "white",
             "minorgridcolor": "white",
             "startlinecolor": "#2a3f5f"
            },
            "type": "carpet"
           }
          ],
          "choropleth": [
           {
            "colorbar": {
             "outlinewidth": 0,
             "ticks": ""
            },
            "type": "choropleth"
           }
          ],
          "contour": [
           {
            "colorbar": {
             "outlinewidth": 0,
             "ticks": ""
            },
            "colorscale": [
             [
              0,
              "#0d0887"
             ],
             [
              0.1111111111111111,
              "#46039f"
             ],
             [
              0.2222222222222222,
              "#7201a8"
             ],
             [
              0.3333333333333333,
              "#9c179e"
             ],
             [
              0.4444444444444444,
              "#bd3786"
             ],
             [
              0.5555555555555556,
              "#d8576b"
             ],
             [
              0.6666666666666666,
              "#ed7953"
             ],
             [
              0.7777777777777778,
              "#fb9f3a"
             ],
             [
              0.8888888888888888,
              "#fdca26"
             ],
             [
              1,
              "#f0f921"
             ]
            ],
            "type": "contour"
           }
          ],
          "contourcarpet": [
           {
            "colorbar": {
             "outlinewidth": 0,
             "ticks": ""
            },
            "type": "contourcarpet"
           }
          ],
          "heatmap": [
           {
            "colorbar": {
             "outlinewidth": 0,
             "ticks": ""
            },
            "colorscale": [
             [
              0,
              "#0d0887"
             ],
             [
              0.1111111111111111,
              "#46039f"
             ],
             [
              0.2222222222222222,
              "#7201a8"
             ],
             [
              0.3333333333333333,
              "#9c179e"
             ],
             [
              0.4444444444444444,
              "#bd3786"
             ],
             [
              0.5555555555555556,
              "#d8576b"
             ],
             [
              0.6666666666666666,
              "#ed7953"
             ],
             [
              0.7777777777777778,
              "#fb9f3a"
             ],
             [
              0.8888888888888888,
              "#fdca26"
             ],
             [
              1,
              "#f0f921"
             ]
            ],
            "type": "heatmap"
           }
          ],
          "heatmapgl": [
           {
            "colorbar": {
             "outlinewidth": 0,
             "ticks": ""
            },
            "colorscale": [
             [
              0,
              "#0d0887"
             ],
             [
              0.1111111111111111,
              "#46039f"
             ],
             [
              0.2222222222222222,
              "#7201a8"
             ],
             [
              0.3333333333333333,
              "#9c179e"
             ],
             [
              0.4444444444444444,
              "#bd3786"
             ],
             [
              0.5555555555555556,
              "#d8576b"
             ],
             [
              0.6666666666666666,
              "#ed7953"
             ],
             [
              0.7777777777777778,
              "#fb9f3a"
             ],
             [
              0.8888888888888888,
              "#fdca26"
             ],
             [
              1,
              "#f0f921"
             ]
            ],
            "type": "heatmapgl"
           }
          ],
          "histogram": [
           {
            "marker": {
             "pattern": {
              "fillmode": "overlay",
              "size": 10,
              "solidity": 0.2
             }
            },
            "type": "histogram"
           }
          ],
          "histogram2d": [
           {
            "colorbar": {
             "outlinewidth": 0,
             "ticks": ""
            },
            "colorscale": [
             [
              0,
              "#0d0887"
             ],
             [
              0.1111111111111111,
              "#46039f"
             ],
             [
              0.2222222222222222,
              "#7201a8"
             ],
             [
              0.3333333333333333,
              "#9c179e"
             ],
             [
              0.4444444444444444,
              "#bd3786"
             ],
             [
              0.5555555555555556,
              "#d8576b"
             ],
             [
              0.6666666666666666,
              "#ed7953"
             ],
             [
              0.7777777777777778,
              "#fb9f3a"
             ],
             [
              0.8888888888888888,
              "#fdca26"
             ],
             [
              1,
              "#f0f921"
             ]
            ],
            "type": "histogram2d"
           }
          ],
          "histogram2dcontour": [
           {
            "colorbar": {
             "outlinewidth": 0,
             "ticks": ""
            },
            "colorscale": [
             [
              0,
              "#0d0887"
             ],
             [
              0.1111111111111111,
              "#46039f"
             ],
             [
              0.2222222222222222,
              "#7201a8"
             ],
             [
              0.3333333333333333,
              "#9c179e"
             ],
             [
              0.4444444444444444,
              "#bd3786"
             ],
             [
              0.5555555555555556,
              "#d8576b"
             ],
             [
              0.6666666666666666,
              "#ed7953"
             ],
             [
              0.7777777777777778,
              "#fb9f3a"
             ],
             [
              0.8888888888888888,
              "#fdca26"
             ],
             [
              1,
              "#f0f921"
             ]
            ],
            "type": "histogram2dcontour"
           }
          ],
          "mesh3d": [
           {
            "colorbar": {
             "outlinewidth": 0,
             "ticks": ""
            },
            "type": "mesh3d"
           }
          ],
          "parcoords": [
           {
            "line": {
             "colorbar": {
              "outlinewidth": 0,
              "ticks": ""
             }
            },
            "type": "parcoords"
           }
          ],
          "pie": [
           {
            "automargin": true,
            "type": "pie"
           }
          ],
          "scatter": [
           {
            "marker": {
             "colorbar": {
              "outlinewidth": 0,
              "ticks": ""
             }
            },
            "type": "scatter"
           }
          ],
          "scatter3d": [
           {
            "line": {
             "colorbar": {
              "outlinewidth": 0,
              "ticks": ""
             }
            },
            "marker": {
             "colorbar": {
              "outlinewidth": 0,
              "ticks": ""
             }
            },
            "type": "scatter3d"
           }
          ],
          "scattercarpet": [
           {
            "marker": {
             "colorbar": {
              "outlinewidth": 0,
              "ticks": ""
             }
            },
            "type": "scattercarpet"
           }
          ],
          "scattergeo": [
           {
            "marker": {
             "colorbar": {
              "outlinewidth": 0,
              "ticks": ""
             }
            },
            "type": "scattergeo"
           }
          ],
          "scattergl": [
           {
            "marker": {
             "colorbar": {
              "outlinewidth": 0,
              "ticks": ""
             }
            },
            "type": "scattergl"
           }
          ],
          "scattermapbox": [
           {
            "marker": {
             "colorbar": {
              "outlinewidth": 0,
              "ticks": ""
             }
            },
            "type": "scattermapbox"
           }
          ],
          "scatterpolar": [
           {
            "marker": {
             "colorbar": {
              "outlinewidth": 0,
              "ticks": ""
             }
            },
            "type": "scatterpolar"
           }
          ],
          "scatterpolargl": [
           {
            "marker": {
             "colorbar": {
              "outlinewidth": 0,
              "ticks": ""
             }
            },
            "type": "scatterpolargl"
           }
          ],
          "scatterternary": [
           {
            "marker": {
             "colorbar": {
              "outlinewidth": 0,
              "ticks": ""
             }
            },
            "type": "scatterternary"
           }
          ],
          "surface": [
           {
            "colorbar": {
             "outlinewidth": 0,
             "ticks": ""
            },
            "colorscale": [
             [
              0,
              "#0d0887"
             ],
             [
              0.1111111111111111,
              "#46039f"
             ],
             [
              0.2222222222222222,
              "#7201a8"
             ],
             [
              0.3333333333333333,
              "#9c179e"
             ],
             [
              0.4444444444444444,
              "#bd3786"
             ],
             [
              0.5555555555555556,
              "#d8576b"
             ],
             [
              0.6666666666666666,
              "#ed7953"
             ],
             [
              0.7777777777777778,
              "#fb9f3a"
             ],
             [
              0.8888888888888888,
              "#fdca26"
             ],
             [
              1,
              "#f0f921"
             ]
            ],
            "type": "surface"
           }
          ],
          "table": [
           {
            "cells": {
             "fill": {
              "color": "#EBF0F8"
             },
             "line": {
              "color": "white"
             }
            },
            "header": {
             "fill": {
              "color": "#C8D4E3"
             },
             "line": {
              "color": "white"
             }
            },
            "type": "table"
           }
          ]
         },
         "layout": {
          "annotationdefaults": {
           "arrowcolor": "#2a3f5f",
           "arrowhead": 0,
           "arrowwidth": 1
          },
          "autotypenumbers": "strict",
          "coloraxis": {
           "colorbar": {
            "outlinewidth": 0,
            "ticks": ""
           }
          },
          "colorscale": {
           "diverging": [
            [
             0,
             "#8e0152"
            ],
            [
             0.1,
             "#c51b7d"
            ],
            [
             0.2,
             "#de77ae"
            ],
            [
             0.3,
             "#f1b6da"
            ],
            [
             0.4,
             "#fde0ef"
            ],
            [
             0.5,
             "#f7f7f7"
            ],
            [
             0.6,
             "#e6f5d0"
            ],
            [
             0.7,
             "#b8e186"
            ],
            [
             0.8,
             "#7fbc41"
            ],
            [
             0.9,
             "#4d9221"
            ],
            [
             1,
             "#276419"
            ]
           ],
           "sequential": [
            [
             0,
             "#0d0887"
            ],
            [
             0.1111111111111111,
             "#46039f"
            ],
            [
             0.2222222222222222,
             "#7201a8"
            ],
            [
             0.3333333333333333,
             "#9c179e"
            ],
            [
             0.4444444444444444,
             "#bd3786"
            ],
            [
             0.5555555555555556,
             "#d8576b"
            ],
            [
             0.6666666666666666,
             "#ed7953"
            ],
            [
             0.7777777777777778,
             "#fb9f3a"
            ],
            [
             0.8888888888888888,
             "#fdca26"
            ],
            [
             1,
             "#f0f921"
            ]
           ],
           "sequentialminus": [
            [
             0,
             "#0d0887"
            ],
            [
             0.1111111111111111,
             "#46039f"
            ],
            [
             0.2222222222222222,
             "#7201a8"
            ],
            [
             0.3333333333333333,
             "#9c179e"
            ],
            [
             0.4444444444444444,
             "#bd3786"
            ],
            [
             0.5555555555555556,
             "#d8576b"
            ],
            [
             0.6666666666666666,
             "#ed7953"
            ],
            [
             0.7777777777777778,
             "#fb9f3a"
            ],
            [
             0.8888888888888888,
             "#fdca26"
            ],
            [
             1,
             "#f0f921"
            ]
           ]
          },
          "colorway": [
           "#636efa",
           "#EF553B",
           "#00cc96",
           "#ab63fa",
           "#FFA15A",
           "#19d3f3",
           "#FF6692",
           "#B6E880",
           "#FF97FF",
           "#FECB52"
          ],
          "font": {
           "color": "#2a3f5f"
          },
          "geo": {
           "bgcolor": "white",
           "lakecolor": "white",
           "landcolor": "#E5ECF6",
           "showlakes": true,
           "showland": true,
           "subunitcolor": "white"
          },
          "hoverlabel": {
           "align": "left"
          },
          "hovermode": "closest",
          "mapbox": {
           "style": "light"
          },
          "paper_bgcolor": "white",
          "plot_bgcolor": "#E5ECF6",
          "polar": {
           "angularaxis": {
            "gridcolor": "white",
            "linecolor": "white",
            "ticks": ""
           },
           "bgcolor": "#E5ECF6",
           "radialaxis": {
            "gridcolor": "white",
            "linecolor": "white",
            "ticks": ""
           }
          },
          "scene": {
           "xaxis": {
            "backgroundcolor": "#E5ECF6",
            "gridcolor": "white",
            "gridwidth": 2,
            "linecolor": "white",
            "showbackground": true,
            "ticks": "",
            "zerolinecolor": "white"
           },
           "yaxis": {
            "backgroundcolor": "#E5ECF6",
            "gridcolor": "white",
            "gridwidth": 2,
            "linecolor": "white",
            "showbackground": true,
            "ticks": "",
            "zerolinecolor": "white"
           },
           "zaxis": {
            "backgroundcolor": "#E5ECF6",
            "gridcolor": "white",
            "gridwidth": 2,
            "linecolor": "white",
            "showbackground": true,
            "ticks": "",
            "zerolinecolor": "white"
           }
          },
          "shapedefaults": {
           "line": {
            "color": "#2a3f5f"
           }
          },
          "ternary": {
           "aaxis": {
            "gridcolor": "white",
            "linecolor": "white",
            "ticks": ""
           },
           "baxis": {
            "gridcolor": "white",
            "linecolor": "white",
            "ticks": ""
           },
           "bgcolor": "#E5ECF6",
           "caxis": {
            "gridcolor": "white",
            "linecolor": "white",
            "ticks": ""
           }
          },
          "title": {
           "x": 0.05
          },
          "xaxis": {
           "automargin": true,
           "gridcolor": "white",
           "linecolor": "white",
           "ticks": "",
           "title": {
            "standoff": 15
           },
           "zerolinecolor": "white",
           "zerolinewidth": 2
          },
          "yaxis": {
           "automargin": true,
           "gridcolor": "white",
           "linecolor": "white",
           "ticks": "",
           "title": {
            "standoff": 15
           },
           "zerolinecolor": "white",
           "zerolinewidth": 2
          }
         }
        }
       }
      },
      "text/html": [
       "<div>                            <div id=\"480c6e5d-8ba1-43d5-8cf1-45efbe8af09f\" class=\"plotly-graph-div\" style=\"height:525px; width:100%;\"></div>            <script type=\"text/javascript\">                require([\"plotly\"], function(Plotly) {                    window.PLOTLYENV=window.PLOTLYENV || {};                                    if (document.getElementById(\"480c6e5d-8ba1-43d5-8cf1-45efbe8af09f\")) {                    Plotly.newPlot(                        \"480c6e5d-8ba1-43d5-8cf1-45efbe8af09f\",                        [{\"coloraxis\":\"coloraxis\",\"geo\":\"geo\",\"hovertemplate\":\"<b>%{hovertext}</b><br><br>country=%{location}<br>total=%{z}<extra></extra>\",\"hovertext\":[\"Germany\",\"United States\",\"Finland\",\"Australia\",\"Sweden\",\"Canada\",\"Russian Federation\",\"Ukraine\",\"Mexico\",\"Spain\",\"United Kingdom\",\"Italy\",\"Portugal\",\"France\",\"Austria\",\"Netherlands\",\"Poland\",\"Bulgaria\",\"Brazil\",\"Slovakia\",\"Lithuania\",\"Serbia\",\"Israel\",\"Turkey\",\"Estonia\"],\"locationmode\":\"country names\",\"locations\":[\"Germany\",\"United States\",\"Finland\",\"Australia\",\"Sweden\",\"Canada\",\"Russian Federation\",\"Ukraine\",\"Mexico\",\"Spain\",\"United Kingdom\",\"Italy\",\"Portugal\",\"France\",\"Austria\",\"Netherlands\",\"Poland\",\"Bulgaria\",\"Brazil\",\"Slovakia\",\"Lithuania\",\"Serbia\",\"Israel\",\"Turkey\",\"Estonia\"],\"name\":\"\",\"type\":\"choropleth\",\"z\":[2351,4972,1274,324,10287,119,870,188,62,228,417,354,390,147,231,67,740,95,758,54,181,322,34,45,375]}],                        {\"coloraxis\":{\"colorbar\":{\"title\":{\"text\":\"total\"}},\"colorscale\":[[0.0,\"#0d0887\"],[0.1111111111111111,\"#46039f\"],[0.2222222222222222,\"#7201a8\"],[0.3333333333333333,\"#9c179e\"],[0.4444444444444444,\"#bd3786\"],[0.5555555555555556,\"#d8576b\"],[0.6666666666666666,\"#ed7953\"],[0.7777777777777778,\"#fb9f3a\"],[0.8888888888888888,\"#fdca26\"],[1.0,\"#f0f921\"]]},\"geo\":{\"center\":{},\"domain\":{\"x\":[0.0,1.0],\"y\":[0.0,1.0]}},\"legend\":{\"tracegroupgap\":0},\"margin\":{\"t\":60},\"template\":{\"data\":{\"bar\":[{\"error_x\":{\"color\":\"#2a3f5f\"},\"error_y\":{\"color\":\"#2a3f5f\"},\"marker\":{\"line\":{\"color\":\"#E5ECF6\",\"width\":0.5},\"pattern\":{\"fillmode\":\"overlay\",\"size\":10,\"solidity\":0.2}},\"type\":\"bar\"}],\"barpolar\":[{\"marker\":{\"line\":{\"color\":\"#E5ECF6\",\"width\":0.5},\"pattern\":{\"fillmode\":\"overlay\",\"size\":10,\"solidity\":0.2}},\"type\":\"barpolar\"}],\"carpet\":[{\"aaxis\":{\"endlinecolor\":\"#2a3f5f\",\"gridcolor\":\"white\",\"linecolor\":\"white\",\"minorgridcolor\":\"white\",\"startlinecolor\":\"#2a3f5f\"},\"baxis\":{\"endlinecolor\":\"#2a3f5f\",\"gridcolor\":\"white\",\"linecolor\":\"white\",\"minorgridcolor\":\"white\",\"startlinecolor\":\"#2a3f5f\"},\"type\":\"carpet\"}],\"choropleth\":[{\"colorbar\":{\"outlinewidth\":0,\"ticks\":\"\"},\"type\":\"choropleth\"}],\"contour\":[{\"colorbar\":{\"outlinewidth\":0,\"ticks\":\"\"},\"colorscale\":[[0.0,\"#0d0887\"],[0.1111111111111111,\"#46039f\"],[0.2222222222222222,\"#7201a8\"],[0.3333333333333333,\"#9c179e\"],[0.4444444444444444,\"#bd3786\"],[0.5555555555555556,\"#d8576b\"],[0.6666666666666666,\"#ed7953\"],[0.7777777777777778,\"#fb9f3a\"],[0.8888888888888888,\"#fdca26\"],[1.0,\"#f0f921\"]],\"type\":\"contour\"}],\"contourcarpet\":[{\"colorbar\":{\"outlinewidth\":0,\"ticks\":\"\"},\"type\":\"contourcarpet\"}],\"heatmap\":[{\"colorbar\":{\"outlinewidth\":0,\"ticks\":\"\"},\"colorscale\":[[0.0,\"#0d0887\"],[0.1111111111111111,\"#46039f\"],[0.2222222222222222,\"#7201a8\"],[0.3333333333333333,\"#9c179e\"],[0.4444444444444444,\"#bd3786\"],[0.5555555555555556,\"#d8576b\"],[0.6666666666666666,\"#ed7953\"],[0.7777777777777778,\"#fb9f3a\"],[0.8888888888888888,\"#fdca26\"],[1.0,\"#f0f921\"]],\"type\":\"heatmap\"}],\"heatmapgl\":[{\"colorbar\":{\"outlinewidth\":0,\"ticks\":\"\"},\"colorscale\":[[0.0,\"#0d0887\"],[0.1111111111111111,\"#46039f\"],[0.2222222222222222,\"#7201a8\"],[0.3333333333333333,\"#9c179e\"],[0.4444444444444444,\"#bd3786\"],[0.5555555555555556,\"#d8576b\"],[0.6666666666666666,\"#ed7953\"],[0.7777777777777778,\"#fb9f3a\"],[0.8888888888888888,\"#fdca26\"],[1.0,\"#f0f921\"]],\"type\":\"heatmapgl\"}],\"histogram\":[{\"marker\":{\"pattern\":{\"fillmode\":\"overlay\",\"size\":10,\"solidity\":0.2}},\"type\":\"histogram\"}],\"histogram2d\":[{\"colorbar\":{\"outlinewidth\":0,\"ticks\":\"\"},\"colorscale\":[[0.0,\"#0d0887\"],[0.1111111111111111,\"#46039f\"],[0.2222222222222222,\"#7201a8\"],[0.3333333333333333,\"#9c179e\"],[0.4444444444444444,\"#bd3786\"],[0.5555555555555556,\"#d8576b\"],[0.6666666666666666,\"#ed7953\"],[0.7777777777777778,\"#fb9f3a\"],[0.8888888888888888,\"#fdca26\"],[1.0,\"#f0f921\"]],\"type\":\"histogram2d\"}],\"histogram2dcontour\":[{\"colorbar\":{\"outlinewidth\":0,\"ticks\":\"\"},\"colorscale\":[[0.0,\"#0d0887\"],[0.1111111111111111,\"#46039f\"],[0.2222222222222222,\"#7201a8\"],[0.3333333333333333,\"#9c179e\"],[0.4444444444444444,\"#bd3786\"],[0.5555555555555556,\"#d8576b\"],[0.6666666666666666,\"#ed7953\"],[0.7777777777777778,\"#fb9f3a\"],[0.8888888888888888,\"#fdca26\"],[1.0,\"#f0f921\"]],\"type\":\"histogram2dcontour\"}],\"mesh3d\":[{\"colorbar\":{\"outlinewidth\":0,\"ticks\":\"\"},\"type\":\"mesh3d\"}],\"parcoords\":[{\"line\":{\"colorbar\":{\"outlinewidth\":0,\"ticks\":\"\"}},\"type\":\"parcoords\"}],\"pie\":[{\"automargin\":true,\"type\":\"pie\"}],\"scatter\":[{\"marker\":{\"colorbar\":{\"outlinewidth\":0,\"ticks\":\"\"}},\"type\":\"scatter\"}],\"scatter3d\":[{\"line\":{\"colorbar\":{\"outlinewidth\":0,\"ticks\":\"\"}},\"marker\":{\"colorbar\":{\"outlinewidth\":0,\"ticks\":\"\"}},\"type\":\"scatter3d\"}],\"scattercarpet\":[{\"marker\":{\"colorbar\":{\"outlinewidth\":0,\"ticks\":\"\"}},\"type\":\"scattercarpet\"}],\"scattergeo\":[{\"marker\":{\"colorbar\":{\"outlinewidth\":0,\"ticks\":\"\"}},\"type\":\"scattergeo\"}],\"scattergl\":[{\"marker\":{\"colorbar\":{\"outlinewidth\":0,\"ticks\":\"\"}},\"type\":\"scattergl\"}],\"scattermapbox\":[{\"marker\":{\"colorbar\":{\"outlinewidth\":0,\"ticks\":\"\"}},\"type\":\"scattermapbox\"}],\"scatterpolar\":[{\"marker\":{\"colorbar\":{\"outlinewidth\":0,\"ticks\":\"\"}},\"type\":\"scatterpolar\"}],\"scatterpolargl\":[{\"marker\":{\"colorbar\":{\"outlinewidth\":0,\"ticks\":\"\"}},\"type\":\"scatterpolargl\"}],\"scatterternary\":[{\"marker\":{\"colorbar\":{\"outlinewidth\":0,\"ticks\":\"\"}},\"type\":\"scatterternary\"}],\"surface\":[{\"colorbar\":{\"outlinewidth\":0,\"ticks\":\"\"},\"colorscale\":[[0.0,\"#0d0887\"],[0.1111111111111111,\"#46039f\"],[0.2222222222222222,\"#7201a8\"],[0.3333333333333333,\"#9c179e\"],[0.4444444444444444,\"#bd3786\"],[0.5555555555555556,\"#d8576b\"],[0.6666666666666666,\"#ed7953\"],[0.7777777777777778,\"#fb9f3a\"],[0.8888888888888888,\"#fdca26\"],[1.0,\"#f0f921\"]],\"type\":\"surface\"}],\"table\":[{\"cells\":{\"fill\":{\"color\":\"#EBF0F8\"},\"line\":{\"color\":\"white\"}},\"header\":{\"fill\":{\"color\":\"#C8D4E3\"},\"line\":{\"color\":\"white\"}},\"type\":\"table\"}]},\"layout\":{\"annotationdefaults\":{\"arrowcolor\":\"#2a3f5f\",\"arrowhead\":0,\"arrowwidth\":1},\"autotypenumbers\":\"strict\",\"coloraxis\":{\"colorbar\":{\"outlinewidth\":0,\"ticks\":\"\"}},\"colorscale\":{\"diverging\":[[0,\"#8e0152\"],[0.1,\"#c51b7d\"],[0.2,\"#de77ae\"],[0.3,\"#f1b6da\"],[0.4,\"#fde0ef\"],[0.5,\"#f7f7f7\"],[0.6,\"#e6f5d0\"],[0.7,\"#b8e186\"],[0.8,\"#7fbc41\"],[0.9,\"#4d9221\"],[1,\"#276419\"]],\"sequential\":[[0.0,\"#0d0887\"],[0.1111111111111111,\"#46039f\"],[0.2222222222222222,\"#7201a8\"],[0.3333333333333333,\"#9c179e\"],[0.4444444444444444,\"#bd3786\"],[0.5555555555555556,\"#d8576b\"],[0.6666666666666666,\"#ed7953\"],[0.7777777777777778,\"#fb9f3a\"],[0.8888888888888888,\"#fdca26\"],[1.0,\"#f0f921\"]],\"sequentialminus\":[[0.0,\"#0d0887\"],[0.1111111111111111,\"#46039f\"],[0.2222222222222222,\"#7201a8\"],[0.3333333333333333,\"#9c179e\"],[0.4444444444444444,\"#bd3786\"],[0.5555555555555556,\"#d8576b\"],[0.6666666666666666,\"#ed7953\"],[0.7777777777777778,\"#fb9f3a\"],[0.8888888888888888,\"#fdca26\"],[1.0,\"#f0f921\"]]},\"colorway\":[\"#636efa\",\"#EF553B\",\"#00cc96\",\"#ab63fa\",\"#FFA15A\",\"#19d3f3\",\"#FF6692\",\"#B6E880\",\"#FF97FF\",\"#FECB52\"],\"font\":{\"color\":\"#2a3f5f\"},\"geo\":{\"bgcolor\":\"white\",\"lakecolor\":\"white\",\"landcolor\":\"#E5ECF6\",\"showlakes\":true,\"showland\":true,\"subunitcolor\":\"white\"},\"hoverlabel\":{\"align\":\"left\"},\"hovermode\":\"closest\",\"mapbox\":{\"style\":\"light\"},\"paper_bgcolor\":\"white\",\"plot_bgcolor\":\"#E5ECF6\",\"polar\":{\"angularaxis\":{\"gridcolor\":\"white\",\"linecolor\":\"white\",\"ticks\":\"\"},\"bgcolor\":\"#E5ECF6\",\"radialaxis\":{\"gridcolor\":\"white\",\"linecolor\":\"white\",\"ticks\":\"\"}},\"scene\":{\"xaxis\":{\"backgroundcolor\":\"#E5ECF6\",\"gridcolor\":\"white\",\"gridwidth\":2,\"linecolor\":\"white\",\"showbackground\":true,\"ticks\":\"\",\"zerolinecolor\":\"white\"},\"yaxis\":{\"backgroundcolor\":\"#E5ECF6\",\"gridcolor\":\"white\",\"gridwidth\":2,\"linecolor\":\"white\",\"showbackground\":true,\"ticks\":\"\",\"zerolinecolor\":\"white\"},\"zaxis\":{\"backgroundcolor\":\"#E5ECF6\",\"gridcolor\":\"white\",\"gridwidth\":2,\"linecolor\":\"white\",\"showbackground\":true,\"ticks\":\"\",\"zerolinecolor\":\"white\"}},\"shapedefaults\":{\"line\":{\"color\":\"#2a3f5f\"}},\"ternary\":{\"aaxis\":{\"gridcolor\":\"white\",\"linecolor\":\"white\",\"ticks\":\"\"},\"baxis\":{\"gridcolor\":\"white\",\"linecolor\":\"white\",\"ticks\":\"\"},\"bgcolor\":\"#E5ECF6\",\"caxis\":{\"gridcolor\":\"white\",\"linecolor\":\"white\",\"ticks\":\"\"}},\"title\":{\"x\":0.05},\"xaxis\":{\"automargin\":true,\"gridcolor\":\"white\",\"linecolor\":\"white\",\"ticks\":\"\",\"title\":{\"standoff\":15},\"zerolinecolor\":\"white\",\"zerolinewidth\":2},\"yaxis\":{\"automargin\":true,\"gridcolor\":\"white\",\"linecolor\":\"white\",\"ticks\":\"\",\"title\":{\"standoff\":15},\"zerolinecolor\":\"white\",\"zerolinewidth\":2}}}},                        {\"responsive\": true}                    ).then(function(){\n",
       "                            \n",
       "var gd = document.getElementById('480c6e5d-8ba1-43d5-8cf1-45efbe8af09f');\n",
       "var x = new MutationObserver(function (mutations, observer) {{\n",
       "        var display = window.getComputedStyle(gd).display;\n",
       "        if (!display || display === 'none') {{\n",
       "            console.log([gd, 'removed!']);\n",
       "            Plotly.purge(gd);\n",
       "            observer.disconnect();\n",
       "        }}\n",
       "}});\n",
       "\n",
       "// Listen for the removal of the full notebook cells\n",
       "var notebookContainer = gd.closest('#notebook-container');\n",
       "if (notebookContainer) {{\n",
       "    x.observe(notebookContainer, {childList: true});\n",
       "}}\n",
       "\n",
       "// Listen for the clearing of the current output cell\n",
       "var outputEl = gd.closest('.output');\n",
       "if (outputEl) {{\n",
       "    x.observe(outputEl, {childList: true});\n",
       "}}\n",
       "\n",
       "                        })                };                });            </script>        </div>"
      ]
     },
     "metadata": {},
     "output_type": "display_data"
    }
   ],
   "source": [
    "fig = px.choropleth(temp, locations='country', color='total',\n",
    "                           hover_name='country', locationmode='country names'\n",
    "                          )\n",
    "# fig.update_layout(margin={\"r\":0,\"t\":0,\"l\":0,\"b\":0})\n",
    "fig.show()"
   ]
  },
  {
   "cell_type": "markdown",
   "id": "99e57622",
   "metadata": {},
   "source": [
    "### Creating a Listening Clock"
   ]
  },
  {
   "cell_type": "code",
   "execution_count": 42,
   "id": "5991316a",
   "metadata": {},
   "outputs": [],
   "source": [
    "activity_profile_joined = activity.set_index('user_id').join(profile.set_index('user_id'))"
   ]
  },
  {
   "cell_type": "code",
   "execution_count": 43,
   "id": "70d8d6a3",
   "metadata": {
    "scrolled": true
   },
   "outputs": [
    {
     "data": {
      "text/html": [
       "<div>\n",
       "<style scoped>\n",
       "    .dataframe tbody tr th:only-of-type {\n",
       "        vertical-align: middle;\n",
       "    }\n",
       "\n",
       "    .dataframe tbody tr th {\n",
       "        vertical-align: top;\n",
       "    }\n",
       "\n",
       "    .dataframe thead th {\n",
       "        text-align: right;\n",
       "    }\n",
       "</style>\n",
       "<table border=\"1\" class=\"dataframe\">\n",
       "  <thead>\n",
       "    <tr style=\"text-align: right;\">\n",
       "      <th></th>\n",
       "      <th>timestamp</th>\n",
       "      <th>artist_id</th>\n",
       "      <th>artist_name</th>\n",
       "      <th>track_id</th>\n",
       "      <th>track_name</th>\n",
       "      <th>gender</th>\n",
       "      <th>age</th>\n",
       "      <th>country</th>\n",
       "      <th>registered</th>\n",
       "      <th>country_code</th>\n",
       "    </tr>\n",
       "    <tr>\n",
       "      <th>user_id</th>\n",
       "      <th></th>\n",
       "      <th></th>\n",
       "      <th></th>\n",
       "      <th></th>\n",
       "      <th></th>\n",
       "      <th></th>\n",
       "      <th></th>\n",
       "      <th></th>\n",
       "      <th></th>\n",
       "      <th></th>\n",
       "    </tr>\n",
       "  </thead>\n",
       "  <tbody>\n",
       "    <tr>\n",
       "      <th>user_000001</th>\n",
       "      <td>2009-05-04T23:08:57Z</td>\n",
       "      <td>f1b1cf71-bd35-4e99-8624-24a6e15f133a</td>\n",
       "      <td>Deep Dish</td>\n",
       "      <td>NaN</td>\n",
       "      <td>Fuck Me Im Famous (Pacha Ibiza)-09-28-2007</td>\n",
       "      <td>m</td>\n",
       "      <td>NaN</td>\n",
       "      <td>Japan</td>\n",
       "      <td>Aug 13, 2006</td>\n",
       "      <td>JP</td>\n",
       "    </tr>\n",
       "    <tr>\n",
       "      <th>user_000001</th>\n",
       "      <td>2009-05-04T13:54:10Z</td>\n",
       "      <td>a7f7df4a-77d8-4f12-8acd-5c60c93f4de8</td>\n",
       "      <td>坂本龍一</td>\n",
       "      <td>NaN</td>\n",
       "      <td>Composition 0919 (Live_2009_4_15)</td>\n",
       "      <td>m</td>\n",
       "      <td>NaN</td>\n",
       "      <td>Japan</td>\n",
       "      <td>Aug 13, 2006</td>\n",
       "      <td>JP</td>\n",
       "    </tr>\n",
       "    <tr>\n",
       "      <th>user_000001</th>\n",
       "      <td>2009-05-04T13:52:04Z</td>\n",
       "      <td>a7f7df4a-77d8-4f12-8acd-5c60c93f4de8</td>\n",
       "      <td>坂本龍一</td>\n",
       "      <td>NaN</td>\n",
       "      <td>Mc2 (Live_2009_4_15)</td>\n",
       "      <td>m</td>\n",
       "      <td>NaN</td>\n",
       "      <td>Japan</td>\n",
       "      <td>Aug 13, 2006</td>\n",
       "      <td>JP</td>\n",
       "    </tr>\n",
       "    <tr>\n",
       "      <th>user_000001</th>\n",
       "      <td>2009-05-04T13:42:52Z</td>\n",
       "      <td>a7f7df4a-77d8-4f12-8acd-5c60c93f4de8</td>\n",
       "      <td>坂本龍一</td>\n",
       "      <td>NaN</td>\n",
       "      <td>Hibari (Live_2009_4_15)</td>\n",
       "      <td>m</td>\n",
       "      <td>NaN</td>\n",
       "      <td>Japan</td>\n",
       "      <td>Aug 13, 2006</td>\n",
       "      <td>JP</td>\n",
       "    </tr>\n",
       "    <tr>\n",
       "      <th>user_000001</th>\n",
       "      <td>2009-05-04T13:42:11Z</td>\n",
       "      <td>a7f7df4a-77d8-4f12-8acd-5c60c93f4de8</td>\n",
       "      <td>坂本龍一</td>\n",
       "      <td>NaN</td>\n",
       "      <td>Mc1 (Live_2009_4_15)</td>\n",
       "      <td>m</td>\n",
       "      <td>NaN</td>\n",
       "      <td>Japan</td>\n",
       "      <td>Aug 13, 2006</td>\n",
       "      <td>JP</td>\n",
       "    </tr>\n",
       "    <tr>\n",
       "      <th>user_000001</th>\n",
       "      <td>2009-05-04T13:38:31Z</td>\n",
       "      <td>a7f7df4a-77d8-4f12-8acd-5c60c93f4de8</td>\n",
       "      <td>坂本龍一</td>\n",
       "      <td>NaN</td>\n",
       "      <td>To Stanford (Live_2009_4_15)</td>\n",
       "      <td>m</td>\n",
       "      <td>NaN</td>\n",
       "      <td>Japan</td>\n",
       "      <td>Aug 13, 2006</td>\n",
       "      <td>JP</td>\n",
       "    </tr>\n",
       "    <tr>\n",
       "      <th>user_000001</th>\n",
       "      <td>2009-05-04T13:33:28Z</td>\n",
       "      <td>a7f7df4a-77d8-4f12-8acd-5c60c93f4de8</td>\n",
       "      <td>坂本龍一</td>\n",
       "      <td>NaN</td>\n",
       "      <td>Improvisation (Live_2009_4_15)</td>\n",
       "      <td>m</td>\n",
       "      <td>NaN</td>\n",
       "      <td>Japan</td>\n",
       "      <td>Aug 13, 2006</td>\n",
       "      <td>JP</td>\n",
       "    </tr>\n",
       "    <tr>\n",
       "      <th>user_000001</th>\n",
       "      <td>2009-05-04T13:23:45Z</td>\n",
       "      <td>a7f7df4a-77d8-4f12-8acd-5c60c93f4de8</td>\n",
       "      <td>坂本龍一</td>\n",
       "      <td>NaN</td>\n",
       "      <td>Glacier (Live_2009_4_15)</td>\n",
       "      <td>m</td>\n",
       "      <td>NaN</td>\n",
       "      <td>Japan</td>\n",
       "      <td>Aug 13, 2006</td>\n",
       "      <td>JP</td>\n",
       "    </tr>\n",
       "    <tr>\n",
       "      <th>user_000001</th>\n",
       "      <td>2009-05-04T13:19:22Z</td>\n",
       "      <td>a7f7df4a-77d8-4f12-8acd-5c60c93f4de8</td>\n",
       "      <td>坂本龍一</td>\n",
       "      <td>NaN</td>\n",
       "      <td>Parolibre (Live_2009_4_15)</td>\n",
       "      <td>m</td>\n",
       "      <td>NaN</td>\n",
       "      <td>Japan</td>\n",
       "      <td>Aug 13, 2006</td>\n",
       "      <td>JP</td>\n",
       "    </tr>\n",
       "    <tr>\n",
       "      <th>user_000001</th>\n",
       "      <td>2009-05-04T13:13:38Z</td>\n",
       "      <td>a7f7df4a-77d8-4f12-8acd-5c60c93f4de8</td>\n",
       "      <td>坂本龍一</td>\n",
       "      <td>NaN</td>\n",
       "      <td>Bibo No Aozora (Live_2009_4_15)</td>\n",
       "      <td>m</td>\n",
       "      <td>NaN</td>\n",
       "      <td>Japan</td>\n",
       "      <td>Aug 13, 2006</td>\n",
       "      <td>JP</td>\n",
       "    </tr>\n",
       "    <tr>\n",
       "      <th>user_000001</th>\n",
       "      <td>2009-05-04T13:06:09Z</td>\n",
       "      <td>a7f7df4a-77d8-4f12-8acd-5c60c93f4de8</td>\n",
       "      <td>坂本龍一</td>\n",
       "      <td>f7c1f8f8-b935-45ed-8fc8-7def69d92a10</td>\n",
       "      <td>The Last Emperor (Theme)</td>\n",
       "      <td>m</td>\n",
       "      <td>NaN</td>\n",
       "      <td>Japan</td>\n",
       "      <td>Aug 13, 2006</td>\n",
       "      <td>JP</td>\n",
       "    </tr>\n",
       "    <tr>\n",
       "      <th>user_000001</th>\n",
       "      <td>2009-05-04T13:00:48Z</td>\n",
       "      <td>a7f7df4a-77d8-4f12-8acd-5c60c93f4de8</td>\n",
       "      <td>坂本龍一</td>\n",
       "      <td>NaN</td>\n",
       "      <td>Happyend (Live_2009_4_15)</td>\n",
       "      <td>m</td>\n",
       "      <td>NaN</td>\n",
       "      <td>Japan</td>\n",
       "      <td>Aug 13, 2006</td>\n",
       "      <td>JP</td>\n",
       "    </tr>\n",
       "    <tr>\n",
       "      <th>user_000001</th>\n",
       "      <td>2009-05-04T12:55:34Z</td>\n",
       "      <td>a7f7df4a-77d8-4f12-8acd-5c60c93f4de8</td>\n",
       "      <td>坂本龍一</td>\n",
       "      <td>475d4e50-cebb-4cd0-8cd4-c3df97987962</td>\n",
       "      <td>Tibetan Dance (Version)</td>\n",
       "      <td>m</td>\n",
       "      <td>NaN</td>\n",
       "      <td>Japan</td>\n",
       "      <td>Aug 13, 2006</td>\n",
       "      <td>JP</td>\n",
       "    </tr>\n",
       "    <tr>\n",
       "      <th>user_000001</th>\n",
       "      <td>2009-05-04T12:51:26Z</td>\n",
       "      <td>a7f7df4a-77d8-4f12-8acd-5c60c93f4de8</td>\n",
       "      <td>坂本龍一</td>\n",
       "      <td>NaN</td>\n",
       "      <td>Behind The Mask (Live_2009_4_15)</td>\n",
       "      <td>m</td>\n",
       "      <td>NaN</td>\n",
       "      <td>Japan</td>\n",
       "      <td>Aug 13, 2006</td>\n",
       "      <td>JP</td>\n",
       "    </tr>\n",
       "    <tr>\n",
       "      <th>user_000001</th>\n",
       "      <td>2009-05-03T15:48:25Z</td>\n",
       "      <td>ba2f4f3b-0293-4bc8-bb94-2f73b5207343</td>\n",
       "      <td>Underworld</td>\n",
       "      <td>dc394163-2b78-4b56-94e4-658597a29ef8</td>\n",
       "      <td>Boy, Boy, Boy (Switch Remix)</td>\n",
       "      <td>m</td>\n",
       "      <td>NaN</td>\n",
       "      <td>Japan</td>\n",
       "      <td>Aug 13, 2006</td>\n",
       "      <td>JP</td>\n",
       "    </tr>\n",
       "    <tr>\n",
       "      <th>user_000001</th>\n",
       "      <td>2009-05-03T15:37:56Z</td>\n",
       "      <td>ba2f4f3b-0293-4bc8-bb94-2f73b5207343</td>\n",
       "      <td>Underworld</td>\n",
       "      <td>340d9a0b-9a43-4098-b116-9f79811bd508</td>\n",
       "      <td>Crocodile (Innervisions Orchestra Mix)</td>\n",
       "      <td>m</td>\n",
       "      <td>NaN</td>\n",
       "      <td>Japan</td>\n",
       "      <td>Aug 13, 2006</td>\n",
       "      <td>JP</td>\n",
       "    </tr>\n",
       "    <tr>\n",
       "      <th>user_000001</th>\n",
       "      <td>2009-05-03T15:14:53Z</td>\n",
       "      <td>a16e47f5-aa54-47fe-87e4-bb8af91a9fdd</td>\n",
       "      <td>Ennio Morricone</td>\n",
       "      <td>0b04407b-f517-4e00-9e6a-494795efc73e</td>\n",
       "      <td>Ninna Nanna In Blu (Raw Deal Remix)</td>\n",
       "      <td>m</td>\n",
       "      <td>NaN</td>\n",
       "      <td>Japan</td>\n",
       "      <td>Aug 13, 2006</td>\n",
       "      <td>JP</td>\n",
       "    </tr>\n",
       "    <tr>\n",
       "      <th>user_000001</th>\n",
       "      <td>2009-05-03T15:10:18Z</td>\n",
       "      <td>463a94f1-2713-40b1-9c88-dcc9c0170cae</td>\n",
       "      <td>Minus 8</td>\n",
       "      <td>4e78efc4-e545-47af-9617-05ff816d86e2</td>\n",
       "      <td>Elysian Fields</td>\n",
       "      <td>m</td>\n",
       "      <td>NaN</td>\n",
       "      <td>Japan</td>\n",
       "      <td>Aug 13, 2006</td>\n",
       "      <td>JP</td>\n",
       "    </tr>\n",
       "    <tr>\n",
       "      <th>user_000001</th>\n",
       "      <td>2009-05-03T15:04:31Z</td>\n",
       "      <td>ad0811ea-e213-451d-b22f-fa1a7f9e0226</td>\n",
       "      <td>Beanfield</td>\n",
       "      <td>fb51d2c4-cc69-4128-92f5-77ec38d66859</td>\n",
       "      <td>Planetary Deadlock</td>\n",
       "      <td>m</td>\n",
       "      <td>NaN</td>\n",
       "      <td>Japan</td>\n",
       "      <td>Aug 13, 2006</td>\n",
       "      <td>JP</td>\n",
       "    </tr>\n",
       "    <tr>\n",
       "      <th>user_000001</th>\n",
       "      <td>2009-05-03T14:56:25Z</td>\n",
       "      <td>309e2dfc-678e-4d09-a7a4-8eab9525b669</td>\n",
       "      <td>Dj Linus</td>\n",
       "      <td>4277434f-e3c2-41ae-9ce3-23fd157f9347</td>\n",
       "      <td>Good Morning Love Coffee Is Ready</td>\n",
       "      <td>m</td>\n",
       "      <td>NaN</td>\n",
       "      <td>Japan</td>\n",
       "      <td>Aug 13, 2006</td>\n",
       "      <td>JP</td>\n",
       "    </tr>\n",
       "  </tbody>\n",
       "</table>\n",
       "</div>"
      ],
      "text/plain": [
       "                        timestamp                             artist_id  \\\n",
       "user_id                                                                   \n",
       "user_000001  2009-05-04T23:08:57Z  f1b1cf71-bd35-4e99-8624-24a6e15f133a   \n",
       "user_000001  2009-05-04T13:54:10Z  a7f7df4a-77d8-4f12-8acd-5c60c93f4de8   \n",
       "user_000001  2009-05-04T13:52:04Z  a7f7df4a-77d8-4f12-8acd-5c60c93f4de8   \n",
       "user_000001  2009-05-04T13:42:52Z  a7f7df4a-77d8-4f12-8acd-5c60c93f4de8   \n",
       "user_000001  2009-05-04T13:42:11Z  a7f7df4a-77d8-4f12-8acd-5c60c93f4de8   \n",
       "user_000001  2009-05-04T13:38:31Z  a7f7df4a-77d8-4f12-8acd-5c60c93f4de8   \n",
       "user_000001  2009-05-04T13:33:28Z  a7f7df4a-77d8-4f12-8acd-5c60c93f4de8   \n",
       "user_000001  2009-05-04T13:23:45Z  a7f7df4a-77d8-4f12-8acd-5c60c93f4de8   \n",
       "user_000001  2009-05-04T13:19:22Z  a7f7df4a-77d8-4f12-8acd-5c60c93f4de8   \n",
       "user_000001  2009-05-04T13:13:38Z  a7f7df4a-77d8-4f12-8acd-5c60c93f4de8   \n",
       "user_000001  2009-05-04T13:06:09Z  a7f7df4a-77d8-4f12-8acd-5c60c93f4de8   \n",
       "user_000001  2009-05-04T13:00:48Z  a7f7df4a-77d8-4f12-8acd-5c60c93f4de8   \n",
       "user_000001  2009-05-04T12:55:34Z  a7f7df4a-77d8-4f12-8acd-5c60c93f4de8   \n",
       "user_000001  2009-05-04T12:51:26Z  a7f7df4a-77d8-4f12-8acd-5c60c93f4de8   \n",
       "user_000001  2009-05-03T15:48:25Z  ba2f4f3b-0293-4bc8-bb94-2f73b5207343   \n",
       "user_000001  2009-05-03T15:37:56Z  ba2f4f3b-0293-4bc8-bb94-2f73b5207343   \n",
       "user_000001  2009-05-03T15:14:53Z  a16e47f5-aa54-47fe-87e4-bb8af91a9fdd   \n",
       "user_000001  2009-05-03T15:10:18Z  463a94f1-2713-40b1-9c88-dcc9c0170cae   \n",
       "user_000001  2009-05-03T15:04:31Z  ad0811ea-e213-451d-b22f-fa1a7f9e0226   \n",
       "user_000001  2009-05-03T14:56:25Z  309e2dfc-678e-4d09-a7a4-8eab9525b669   \n",
       "\n",
       "                 artist_name                              track_id  \\\n",
       "user_id                                                              \n",
       "user_000001        Deep Dish                                   NaN   \n",
       "user_000001             坂本龍一                                   NaN   \n",
       "user_000001             坂本龍一                                   NaN   \n",
       "user_000001             坂本龍一                                   NaN   \n",
       "user_000001             坂本龍一                                   NaN   \n",
       "user_000001             坂本龍一                                   NaN   \n",
       "user_000001             坂本龍一                                   NaN   \n",
       "user_000001             坂本龍一                                   NaN   \n",
       "user_000001             坂本龍一                                   NaN   \n",
       "user_000001             坂本龍一                                   NaN   \n",
       "user_000001             坂本龍一  f7c1f8f8-b935-45ed-8fc8-7def69d92a10   \n",
       "user_000001             坂本龍一                                   NaN   \n",
       "user_000001             坂本龍一  475d4e50-cebb-4cd0-8cd4-c3df97987962   \n",
       "user_000001             坂本龍一                                   NaN   \n",
       "user_000001       Underworld  dc394163-2b78-4b56-94e4-658597a29ef8   \n",
       "user_000001       Underworld  340d9a0b-9a43-4098-b116-9f79811bd508   \n",
       "user_000001  Ennio Morricone  0b04407b-f517-4e00-9e6a-494795efc73e   \n",
       "user_000001          Minus 8  4e78efc4-e545-47af-9617-05ff816d86e2   \n",
       "user_000001        Beanfield  fb51d2c4-cc69-4128-92f5-77ec38d66859   \n",
       "user_000001         Dj Linus  4277434f-e3c2-41ae-9ce3-23fd157f9347   \n",
       "\n",
       "                                             track_name gender  age country  \\\n",
       "user_id                                                                       \n",
       "user_000001  Fuck Me Im Famous (Pacha Ibiza)-09-28-2007      m  NaN   Japan   \n",
       "user_000001           Composition 0919 (Live_2009_4_15)      m  NaN   Japan   \n",
       "user_000001                        Mc2 (Live_2009_4_15)      m  NaN   Japan   \n",
       "user_000001                     Hibari (Live_2009_4_15)      m  NaN   Japan   \n",
       "user_000001                        Mc1 (Live_2009_4_15)      m  NaN   Japan   \n",
       "user_000001                To Stanford (Live_2009_4_15)      m  NaN   Japan   \n",
       "user_000001              Improvisation (Live_2009_4_15)      m  NaN   Japan   \n",
       "user_000001                    Glacier (Live_2009_4_15)      m  NaN   Japan   \n",
       "user_000001                  Parolibre (Live_2009_4_15)      m  NaN   Japan   \n",
       "user_000001             Bibo No Aozora (Live_2009_4_15)      m  NaN   Japan   \n",
       "user_000001                    The Last Emperor (Theme)      m  NaN   Japan   \n",
       "user_000001                   Happyend (Live_2009_4_15)      m  NaN   Japan   \n",
       "user_000001                     Tibetan Dance (Version)      m  NaN   Japan   \n",
       "user_000001            Behind The Mask (Live_2009_4_15)      m  NaN   Japan   \n",
       "user_000001                Boy, Boy, Boy (Switch Remix)      m  NaN   Japan   \n",
       "user_000001      Crocodile (Innervisions Orchestra Mix)      m  NaN   Japan   \n",
       "user_000001         Ninna Nanna In Blu (Raw Deal Remix)      m  NaN   Japan   \n",
       "user_000001                              Elysian Fields      m  NaN   Japan   \n",
       "user_000001                          Planetary Deadlock      m  NaN   Japan   \n",
       "user_000001           Good Morning Love Coffee Is Ready      m  NaN   Japan   \n",
       "\n",
       "               registered country_code  \n",
       "user_id                                 \n",
       "user_000001  Aug 13, 2006           JP  \n",
       "user_000001  Aug 13, 2006           JP  \n",
       "user_000001  Aug 13, 2006           JP  \n",
       "user_000001  Aug 13, 2006           JP  \n",
       "user_000001  Aug 13, 2006           JP  \n",
       "user_000001  Aug 13, 2006           JP  \n",
       "user_000001  Aug 13, 2006           JP  \n",
       "user_000001  Aug 13, 2006           JP  \n",
       "user_000001  Aug 13, 2006           JP  \n",
       "user_000001  Aug 13, 2006           JP  \n",
       "user_000001  Aug 13, 2006           JP  \n",
       "user_000001  Aug 13, 2006           JP  \n",
       "user_000001  Aug 13, 2006           JP  \n",
       "user_000001  Aug 13, 2006           JP  \n",
       "user_000001  Aug 13, 2006           JP  \n",
       "user_000001  Aug 13, 2006           JP  \n",
       "user_000001  Aug 13, 2006           JP  \n",
       "user_000001  Aug 13, 2006           JP  \n",
       "user_000001  Aug 13, 2006           JP  \n",
       "user_000001  Aug 13, 2006           JP  "
      ]
     },
     "execution_count": 43,
     "metadata": {},
     "output_type": "execute_result"
    }
   ],
   "source": [
    "activity_profile_joined.head(20)"
   ]
  },
  {
   "cell_type": "code",
   "execution_count": 44,
   "id": "17e772c7",
   "metadata": {},
   "outputs": [],
   "source": [
    "activity_profile_joined = activity_profile_joined.reset_index()"
   ]
  },
  {
   "cell_type": "code",
   "execution_count": 45,
   "id": "0a1e44e0",
   "metadata": {},
   "outputs": [
    {
     "data": {
      "text/html": [
       "<div>\n",
       "<style scoped>\n",
       "    .dataframe tbody tr th:only-of-type {\n",
       "        vertical-align: middle;\n",
       "    }\n",
       "\n",
       "    .dataframe tbody tr th {\n",
       "        vertical-align: top;\n",
       "    }\n",
       "\n",
       "    .dataframe thead th {\n",
       "        text-align: right;\n",
       "    }\n",
       "</style>\n",
       "<table border=\"1\" class=\"dataframe\">\n",
       "  <thead>\n",
       "    <tr style=\"text-align: right;\">\n",
       "      <th></th>\n",
       "      <th>user_id</th>\n",
       "      <th>timestamp</th>\n",
       "      <th>artist_id</th>\n",
       "      <th>artist_name</th>\n",
       "      <th>track_id</th>\n",
       "      <th>track_name</th>\n",
       "      <th>gender</th>\n",
       "      <th>age</th>\n",
       "      <th>country</th>\n",
       "      <th>registered</th>\n",
       "      <th>country_code</th>\n",
       "    </tr>\n",
       "  </thead>\n",
       "  <tbody>\n",
       "    <tr>\n",
       "      <th>0</th>\n",
       "      <td>user_000001</td>\n",
       "      <td>2009-05-04T23:08:57Z</td>\n",
       "      <td>f1b1cf71-bd35-4e99-8624-24a6e15f133a</td>\n",
       "      <td>Deep Dish</td>\n",
       "      <td>NaN</td>\n",
       "      <td>Fuck Me Im Famous (Pacha Ibiza)-09-28-2007</td>\n",
       "      <td>m</td>\n",
       "      <td>NaN</td>\n",
       "      <td>Japan</td>\n",
       "      <td>Aug 13, 2006</td>\n",
       "      <td>JP</td>\n",
       "    </tr>\n",
       "    <tr>\n",
       "      <th>1</th>\n",
       "      <td>user_000001</td>\n",
       "      <td>2009-05-04T13:54:10Z</td>\n",
       "      <td>a7f7df4a-77d8-4f12-8acd-5c60c93f4de8</td>\n",
       "      <td>坂本龍一</td>\n",
       "      <td>NaN</td>\n",
       "      <td>Composition 0919 (Live_2009_4_15)</td>\n",
       "      <td>m</td>\n",
       "      <td>NaN</td>\n",
       "      <td>Japan</td>\n",
       "      <td>Aug 13, 2006</td>\n",
       "      <td>JP</td>\n",
       "    </tr>\n",
       "    <tr>\n",
       "      <th>2</th>\n",
       "      <td>user_000001</td>\n",
       "      <td>2009-05-04T13:52:04Z</td>\n",
       "      <td>a7f7df4a-77d8-4f12-8acd-5c60c93f4de8</td>\n",
       "      <td>坂本龍一</td>\n",
       "      <td>NaN</td>\n",
       "      <td>Mc2 (Live_2009_4_15)</td>\n",
       "      <td>m</td>\n",
       "      <td>NaN</td>\n",
       "      <td>Japan</td>\n",
       "      <td>Aug 13, 2006</td>\n",
       "      <td>JP</td>\n",
       "    </tr>\n",
       "    <tr>\n",
       "      <th>3</th>\n",
       "      <td>user_000001</td>\n",
       "      <td>2009-05-04T13:42:52Z</td>\n",
       "      <td>a7f7df4a-77d8-4f12-8acd-5c60c93f4de8</td>\n",
       "      <td>坂本龍一</td>\n",
       "      <td>NaN</td>\n",
       "      <td>Hibari (Live_2009_4_15)</td>\n",
       "      <td>m</td>\n",
       "      <td>NaN</td>\n",
       "      <td>Japan</td>\n",
       "      <td>Aug 13, 2006</td>\n",
       "      <td>JP</td>\n",
       "    </tr>\n",
       "    <tr>\n",
       "      <th>4</th>\n",
       "      <td>user_000001</td>\n",
       "      <td>2009-05-04T13:42:11Z</td>\n",
       "      <td>a7f7df4a-77d8-4f12-8acd-5c60c93f4de8</td>\n",
       "      <td>坂本龍一</td>\n",
       "      <td>NaN</td>\n",
       "      <td>Mc1 (Live_2009_4_15)</td>\n",
       "      <td>m</td>\n",
       "      <td>NaN</td>\n",
       "      <td>Japan</td>\n",
       "      <td>Aug 13, 2006</td>\n",
       "      <td>JP</td>\n",
       "    </tr>\n",
       "  </tbody>\n",
       "</table>\n",
       "</div>"
      ],
      "text/plain": [
       "       user_id             timestamp                             artist_id  \\\n",
       "0  user_000001  2009-05-04T23:08:57Z  f1b1cf71-bd35-4e99-8624-24a6e15f133a   \n",
       "1  user_000001  2009-05-04T13:54:10Z  a7f7df4a-77d8-4f12-8acd-5c60c93f4de8   \n",
       "2  user_000001  2009-05-04T13:52:04Z  a7f7df4a-77d8-4f12-8acd-5c60c93f4de8   \n",
       "3  user_000001  2009-05-04T13:42:52Z  a7f7df4a-77d8-4f12-8acd-5c60c93f4de8   \n",
       "4  user_000001  2009-05-04T13:42:11Z  a7f7df4a-77d8-4f12-8acd-5c60c93f4de8   \n",
       "\n",
       "  artist_name track_id                                  track_name gender  \\\n",
       "0   Deep Dish      NaN  Fuck Me Im Famous (Pacha Ibiza)-09-28-2007      m   \n",
       "1        坂本龍一      NaN           Composition 0919 (Live_2009_4_15)      m   \n",
       "2        坂本龍一      NaN                        Mc2 (Live_2009_4_15)      m   \n",
       "3        坂本龍一      NaN                     Hibari (Live_2009_4_15)      m   \n",
       "4        坂本龍一      NaN                        Mc1 (Live_2009_4_15)      m   \n",
       "\n",
       "   age country    registered country_code  \n",
       "0  NaN   Japan  Aug 13, 2006           JP  \n",
       "1  NaN   Japan  Aug 13, 2006           JP  \n",
       "2  NaN   Japan  Aug 13, 2006           JP  \n",
       "3  NaN   Japan  Aug 13, 2006           JP  \n",
       "4  NaN   Japan  Aug 13, 2006           JP  "
      ]
     },
     "execution_count": 45,
     "metadata": {},
     "output_type": "execute_result"
    }
   ],
   "source": [
    "activity_profile_joined.head()"
   ]
  },
  {
   "cell_type": "code",
   "execution_count": 46,
   "id": "e6d5f06f",
   "metadata": {},
   "outputs": [],
   "source": [
    "activity_profile_joined['timestamp'] = pd.to_datetime(activity_profile_joined['timestamp'])\n",
    "activity_profile_joined['hour'] = activity_profile_joined.timestamp.dt.hour"
   ]
  },
  {
   "cell_type": "code",
   "execution_count": 162,
   "id": "8908c9e1",
   "metadata": {},
   "outputs": [],
   "source": [
    "tempp = activity_profile_joined.groupby(['artist_name']).size().reset_index(name='Counts')"
   ]
  },
  {
   "cell_type": "code",
   "execution_count": 177,
   "id": "6e042a86",
   "metadata": {},
   "outputs": [],
   "source": [
    "temp = activity_profile_joined[activity_profile_joined['artist_name'].isin(['Pink Floyd'])]"
   ]
  },
  {
   "cell_type": "code",
   "execution_count": 178,
   "id": "06b5f439",
   "metadata": {},
   "outputs": [],
   "source": [
    "temp = temp.reset_index()\n",
    "temp = temp.drop('index', axis=1)"
   ]
  },
  {
   "cell_type": "code",
   "execution_count": 179,
   "id": "0b6028ba",
   "metadata": {},
   "outputs": [],
   "source": [
    "temp2 = temp.groupby(['country', 'hour']).size().reset_index(name='Counts')\n",
    "temp2 = temp2[temp2['country'] == 'United States']\n",
    "temp3 = temp2.drop('country', axis=1)\n",
    "temp3 = temp3.reset_index()\n",
    "temp3 = temp3.drop('index', axis=1)"
   ]
  },
  {
   "cell_type": "code",
   "execution_count": 223,
   "id": "996f00fa",
   "metadata": {},
   "outputs": [
    {
     "data": {
      "text/html": [
       "<div>\n",
       "<style scoped>\n",
       "    .dataframe tbody tr th:only-of-type {\n",
       "        vertical-align: middle;\n",
       "    }\n",
       "\n",
       "    .dataframe tbody tr th {\n",
       "        vertical-align: top;\n",
       "    }\n",
       "\n",
       "    .dataframe thead th {\n",
       "        text-align: right;\n",
       "    }\n",
       "</style>\n",
       "<table border=\"1\" class=\"dataframe\">\n",
       "  <thead>\n",
       "    <tr style=\"text-align: right;\">\n",
       "      <th></th>\n",
       "      <th>hour</th>\n",
       "      <th>Counts</th>\n",
       "    </tr>\n",
       "  </thead>\n",
       "  <tbody>\n",
       "    <tr>\n",
       "      <th>0</th>\n",
       "      <td>0</td>\n",
       "      <td>476</td>\n",
       "    </tr>\n",
       "    <tr>\n",
       "      <th>1</th>\n",
       "      <td>1</td>\n",
       "      <td>499</td>\n",
       "    </tr>\n",
       "    <tr>\n",
       "      <th>2</th>\n",
       "      <td>2</td>\n",
       "      <td>589</td>\n",
       "    </tr>\n",
       "    <tr>\n",
       "      <th>3</th>\n",
       "      <td>3</td>\n",
       "      <td>727</td>\n",
       "    </tr>\n",
       "    <tr>\n",
       "      <th>4</th>\n",
       "      <td>4</td>\n",
       "      <td>639</td>\n",
       "    </tr>\n",
       "    <tr>\n",
       "      <th>5</th>\n",
       "      <td>5</td>\n",
       "      <td>556</td>\n",
       "    </tr>\n",
       "    <tr>\n",
       "      <th>6</th>\n",
       "      <td>6</td>\n",
       "      <td>592</td>\n",
       "    </tr>\n",
       "    <tr>\n",
       "      <th>7</th>\n",
       "      <td>7</td>\n",
       "      <td>461</td>\n",
       "    </tr>\n",
       "    <tr>\n",
       "      <th>8</th>\n",
       "      <td>8</td>\n",
       "      <td>385</td>\n",
       "    </tr>\n",
       "    <tr>\n",
       "      <th>9</th>\n",
       "      <td>9</td>\n",
       "      <td>352</td>\n",
       "    </tr>\n",
       "    <tr>\n",
       "      <th>10</th>\n",
       "      <td>10</td>\n",
       "      <td>284</td>\n",
       "    </tr>\n",
       "    <tr>\n",
       "      <th>11</th>\n",
       "      <td>11</td>\n",
       "      <td>306</td>\n",
       "    </tr>\n",
       "    <tr>\n",
       "      <th>12</th>\n",
       "      <td>12</td>\n",
       "      <td>292</td>\n",
       "    </tr>\n",
       "    <tr>\n",
       "      <th>13</th>\n",
       "      <td>13</td>\n",
       "      <td>224</td>\n",
       "    </tr>\n",
       "    <tr>\n",
       "      <th>14</th>\n",
       "      <td>14</td>\n",
       "      <td>298</td>\n",
       "    </tr>\n",
       "    <tr>\n",
       "      <th>15</th>\n",
       "      <td>15</td>\n",
       "      <td>371</td>\n",
       "    </tr>\n",
       "    <tr>\n",
       "      <th>16</th>\n",
       "      <td>16</td>\n",
       "      <td>384</td>\n",
       "    </tr>\n",
       "    <tr>\n",
       "      <th>17</th>\n",
       "      <td>17</td>\n",
       "      <td>422</td>\n",
       "    </tr>\n",
       "    <tr>\n",
       "      <th>18</th>\n",
       "      <td>18</td>\n",
       "      <td>535</td>\n",
       "    </tr>\n",
       "    <tr>\n",
       "      <th>19</th>\n",
       "      <td>19</td>\n",
       "      <td>490</td>\n",
       "    </tr>\n",
       "  </tbody>\n",
       "</table>\n",
       "</div>"
      ],
      "text/plain": [
       "    hour  Counts\n",
       "0      0     476\n",
       "1      1     499\n",
       "2      2     589\n",
       "3      3     727\n",
       "4      4     639\n",
       "5      5     556\n",
       "6      6     592\n",
       "7      7     461\n",
       "8      8     385\n",
       "9      9     352\n",
       "10    10     284\n",
       "11    11     306\n",
       "12    12     292\n",
       "13    13     224\n",
       "14    14     298\n",
       "15    15     371\n",
       "16    16     384\n",
       "17    17     422\n",
       "18    18     535\n",
       "19    19     490"
      ]
     },
     "execution_count": 223,
     "metadata": {},
     "output_type": "execute_result"
    }
   ],
   "source": [
    "temp3.head(20)"
   ]
  },
  {
   "cell_type": "code",
   "execution_count": 182,
   "id": "cddd715d",
   "metadata": {},
   "outputs": [
    {
     "data": {
      "image/png": "[encoded data removed]",
      "text/plain": [
       "<Figure size 640x480 with 1 Axes>"
      ]
     },
     "metadata": {},
     "output_type": "display_data"
    }
   ],
   "source": [
    "ax = sns.barplot(x=\"hour\", y=\"Counts\", data=temp3, palette=\"coolwarm\").set_title(\"Listening Hours for Pink Floyd\")\n",
    "plt.show()"
   ]
  },
  {
   "cell_type": "code",
   "execution_count": 186,
   "id": "1f67c16a",
   "metadata": {},
   "outputs": [],
   "source": []
  },
  {
   "cell_type": "code",
   "execution_count": null,
   "id": "feb7febb",
   "metadata": {},
   "outputs": [],
   "source": []
  },
  {
   "cell_type": "code",
   "execution_count": null,
   "id": "4b3bf36a",
   "metadata": {},
   "outputs": [],
   "source": []
  }
 ],
 "metadata": {
  "kernelspec": {
   "display_name": "dviz",
   "language": "python",
   "name": "dviz"
  },
  "language_info": {
   "codemirror_mode": {
    "name": "ipython",
    "version": 3
   },
   "file_extension": ".py",
   "mimetype": "text/x-python",
   "name": "python",
   "nbconvert_exporter": "python",
   "pygments_lexer": "ipython3",
   "version": "3.8.11"
  }
 },
 "nbformat": 4,
 "nbformat_minor": 5
}
